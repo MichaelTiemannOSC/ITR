{
 "cells": [
  {
   "cell_type": "markdown",
   "id": "fe5d307b-6b9b-4e5e-b9ca-06ab64b3fee4",
   "metadata": {},
   "source": [
    "This notebook is intended to help an analyst do some math checks on targets vs trajectories vs benchmarks for a company in a region and a sector.\n",
    "\n",
    "It uses the OECM benchmark for production and intensity values. Subject data is formatted according to the rules of the ITR Data template.\n",
    "\n",
    "**Cell 9 must be set manually** (based on sector/region of subject company set in **cell 8**)"
   ]
  },
  {
   "cell_type": "code",
   "execution_count": null,
   "id": "5a7bee19-e1d2-4c0d-9297-f880d734fe9e",
   "metadata": {},
   "outputs": [],
   "source": [
    "import os\n",
    "import sys\n",
    "import json\n",
    "import argparse\n",
    "import pandas as pd\n",
    "import plotly.express as px\n",
    "import plotly.graph_objects as go "
   ]
  },
  {
   "cell_type": "code",
   "execution_count": null,
   "id": "66f712d4-2104-47aa-8cf2-705f7352825b",
   "metadata": {},
   "outputs": [],
   "source": [
    "import ITR\n",
    "from ITR.data.base_providers import BaseProviderProductionBenchmark, BaseProviderIntensityBenchmark\n",
    "from ITR.interfaces import ETimeFrames, EScope, IProductionBenchmarkScopes, IEIBenchmarkScopes\n",
    "from ITR.data.template import TemplateProviderCompany\n",
    "from ITR.data.data_warehouse import DataWarehouse"
   ]
  },
  {
   "cell_type": "code",
   "execution_count": null,
   "id": "d83a2bd6-32c2-4c40-8b2e-34236c6aee76",
   "metadata": {},
   "outputs": [],
   "source": [
    "import logging\n",
    "root_logger = logging.getLogger()\n",
    "root_logger.setLevel(\"INFO\")"
   ]
  },
  {
   "cell_type": "code",
   "execution_count": null,
   "id": "5a750992-d1df-412e-a7c1-109f03f456ae",
   "metadata": {},
   "outputs": [],
   "source": [
    "self_root = os.path.abspath('')\n",
    "benchmark_prod_json = os.path.join(self_root, \"data\", \"json-units\", \"benchmark_production_OECM.json\")\n",
    "benchmark_EI_OECM = os.path.join(self_root, \"data\", \"json-units\", \"benchmark_EI_OECM_S3.json\")\n",
    "benchmark_EI_TPI = os.path.join(self_root, \"data\", \"json-units\", \"benchmark_EI_TPI_1_5_degrees.json\")\n",
    "\n",
    "# load production benchmarks\n",
    "with open(benchmark_prod_json) as json_file:\n",
    "    parsed_json = json.load(json_file)\n",
    "prod_bms = IProductionBenchmarkScopes.parse_obj(parsed_json)\n",
    "production_bm = BaseProviderProductionBenchmark(production_benchmarks=prod_bms)\n",
    "\n",
    "# load intensity benchmarks\n",
    "\n",
    "# OECM\n",
    "with open(benchmark_EI_OECM) as json_file:\n",
    "    parsed_json = json.load(json_file)\n",
    "ei_bms = IEIBenchmarkScopes.parse_obj(parsed_json)\n",
    "OECM_EI_bm = BaseProviderIntensityBenchmark(EI_benchmarks=ei_bms)\n",
    "\n",
    "# TPI\n",
    "with open(benchmark_EI_TPI) as json_file:\n",
    "    parsed_json = json.load(json_file)\n",
    "ei_bms = IEIBenchmarkScopes.parse_obj(parsed_json)\n",
    "TPI_EI_bm = BaseProviderIntensityBenchmark(EI_benchmarks=ei_bms)\n",
    "\n",
    "intensity_bm = TPI_EI_bm"
   ]
  },
  {
   "cell_type": "code",
   "execution_count": null,
   "id": "5f857c45-4185-436a-847a-b783cb79529f",
   "metadata": {},
   "outputs": [],
   "source": [
    "template_data_path = \"data/20220927 ITR V2 Sample Data.xlsx\"\n",
    "# template_data_path = \"data/20220927 ITR Tool Sample Data.xlsx\"\n",
    "\n",
    "# Remove the # and space on the next line to point the template_data_path variable at your own data\n",
    "# template_data_path = \"data/your_template_here.xlsx\"\n",
    "\n",
    "template_company_data = TemplateProviderCompany(excel_path=template_data_path)"
   ]
  },
  {
   "cell_type": "code",
   "execution_count": null,
   "id": "ad1039f2-1d3a-4b45-b0fc-7ff341abdc01",
   "metadata": {},
   "outputs": [],
   "source": [
    "template_provider = DataWarehouse(template_company_data, production_bm, intensity_bm)\n",
    "\n",
    "# Fills in template_company_data._companies[0].projected_targets.S1S2\n",
    "\n",
    "print(f\"Benchmark Temperature = {intensity_bm.benchmark_temperature}\\n\\\n",
    "Benchmark Global Budget = {intensity_bm.benchmark_global_budget}\\n\\\n",
    "AFOLU included = {intensity_bm.is_AFOLU_included}\")"
   ]
  },
  {
   "cell_type": "code",
   "execution_count": null,
   "id": "d20ab764-467b-47eb-920d-6759f65339eb",
   "metadata": {},
   "outputs": [],
   "source": [
    "data, idx = zip(*[(i, (bm.sector, bm.region))\n",
    "                  for i, bm in enumerate(production_bm._productions_benchmarks.AnyScope.benchmarks)])\n",
    "production_bm_mapper = pd.Series(data, idx)\n",
    "\n",
    "if intensity_bm == OECM_EI_bm:\n",
    "    # The OECM benchmarks are all coordinated with each other\n",
    "    ei_s1_bm_mapper = None\n",
    "    ei_s1s2_bm_mapper = ei_s1s2s3_bm_mapper = production_bm_mapper\n",
    "else:\n",
    "    # TPI benchmarks (possibly others) have their own rules\n",
    "    data, idx = zip(*[(i, (bm.sector, bm.region))\n",
    "                      for i, bm in enumerate(intensity_bm._EI_benchmarks.S1.benchmarks)])\n",
    "    ei_s1_bm_mapper = pd.Series(data, idx)\n",
    "\n",
    "    data, idx = zip(*[(i, (bm.sector, bm.region))\n",
    "                      for i, bm in enumerate(intensity_bm._EI_benchmarks.S1S2.benchmarks)])\n",
    "    ei_s1s2_bm_mapper = pd.Series(data, idx)\n",
    "\n",
    "    data, idx = zip(*[(i, (bm.sector, bm.region))\n",
    "                      for i, bm in enumerate(intensity_bm._EI_benchmarks.S1S2S3.benchmarks)])\n",
    "    ei_s1s2s3_bm_mapper = pd.Series(data, idx)"
   ]
  },
  {
   "cell_type": "code",
   "execution_count": null,
   "id": "18a9339e-cb2e-434f-8b4a-d5dc3384aeaa",
   "metadata": {},
   "outputs": [],
   "source": [
    "# US Steel US9129091081\n",
    "# Carpenter Technologies US1442851036\n",
    "# Cleveland Cliffs US1858991011\n",
    "# Commercial Metals US2017231034\n",
    "# Nucore US6703461052\n",
    "# Steel Dynamics US8581191009\n",
    "# Timken Steel US8873991033\n",
    "# Worthington Industries US9818111026\n",
    "# POSCO KR7005490008\n",
    "\n",
    "company_ids = [ # 'GB0007980591', 'US1667641005', 'US30231G1022', 'US56585A1025', '2222.SR',\n",
    "               'US9129091081', 'US1442851036', 'US1858991011', 'US2017231034', 'US6703461052',\n",
    "               'US8581191009', 'US8873991033', 'US9818111026', 'KR7005490008']\n",
    "\n",
    "models = template_provider.get_preprocessed_company_data(company_ids)\n",
    "region = models[0].region if models[0].region in ['North America', 'Europe'] else 'Global'\n",
    "sector_region_idx = production_bm_mapper.loc[models[0].sector, region]\n",
    "sector_prod_baseline = production_bm._productions_benchmarks.AnyScope.benchmarks[sector_region_idx].base_year_production.m\n",
    "print(f\"set sector_prod_baseline (total units of output) for {models[0].sector} {region}; base_proudction_year = {sector_prod_baseline}\")"
   ]
  },
  {
   "cell_type": "code",
   "execution_count": null,
   "id": "fc57af8f-07a3-4cab-8fa9-91b861e5cd9e",
   "metadata": {},
   "outputs": [],
   "source": [
    "def get_ei_scope_by_sector_region(scope, sector, region, bm_mapper):\n",
    "    \"\"\"\n",
    "    \"\"\"\n",
    "    if getattr(intensity_bm._EI_benchmarks, scope) and sector in bm_mapper.index:\n",
    "        if (sector, region) in bm_mapper.index:\n",
    "            ei_sector_region_idx = bm_mapper.loc[sector, region]\n",
    "        elif (model.sector, \"Global\") in bm_mapper.index:\n",
    "            ei_sector_region_idx = bm_mapper.loc[sector, \"Global\"]\n",
    "        ei_data, ei_idx = zip(*[(ei.value, ei.year)\n",
    "                              for ei in getattr(intensity_bm._EI_benchmarks, scope).benchmarks[ei_sector_region_idx].projections_nounits])\n",
    "        sector_ei = pd.Series(ei_data, ei_idx)\n",
    "    else:\n",
    "        sector_ei = None\n",
    "    return sector_ei\n",
    "\n",
    "def get_em_projections(model_ei) -> pd.Series:\n",
    "    \"\"\"\n",
    "    \"\"\"\n",
    "    if getattr(model_ei, 'S1S2S3'):\n",
    "        data, idx = zip(*[(p.value.m, p.year) for p in model_ei.S1S2S3.projections])\n",
    "    elif getattr(model_ei, 'S1S2'):\n",
    "        data, idx = zip(*[(p.value.m, p.year) for p in model_ei.S1S2.projections])\n",
    "    elif getattr(model_ei, 'S1'):\n",
    "        data, idx = zip(*[(p.value.m, p.year) for p in model_ei.S1.projections])\n",
    "    else:\n",
    "        raise ValueError(\"no valid scope found for {model_ei}\")\n",
    "    return pd.Series(data, idx)"
   ]
  },
  {
   "cell_type": "code",
   "execution_count": null,
   "id": "64d8cc2c-9394-4256-94b7-e45e6349c78b",
   "metadata": {},
   "outputs": [],
   "source": [
    "sector_dfs = []\n",
    "\n",
    "for model in models:\n",
    "    region = model.region if model.region in ['North America', 'Europe'] else 'Global'\n",
    "    sector_region_idx = production_bm_mapper.loc[model.sector, region]\n",
    "    sector_prod_baseline = production_bm._productions_benchmarks.AnyScope.benchmarks[sector_region_idx].base_year_production.m\n",
    "    prod_data, prod_idx = zip(*[(p.value, p.year)\n",
    "                              for p in production_bm._productions_benchmarks.AnyScope.benchmarks[sector_region_idx].projections_nounits])\n",
    "    sector_production = pd.Series(prod_data, prod_idx)\n",
    "\n",
    "    if ei_s1_bm_mapper is not None:\n",
    "        sector_ei_s1 = get_ei_scope_by_sector_region('S1', model.sector, region, ei_s1_bm_mapper)\n",
    "    else:\n",
    "        sector_ei_s1 = None\n",
    "    sector_ei_s1s2 = get_ei_scope_by_sector_region('S1S2', model.sector, region, ei_s1s2_bm_mapper)\n",
    "    sector_ei_s1s2s3 = get_ei_scope_by_sector_region('S1S2S3', model.sector, region, ei_s1s2s3_bm_mapper)\n",
    "    sector_growth_partial = sector_production.add(1).cumprod()\n",
    "    data, idx = zip(*[(p.value.m, p.year)\n",
    "                  for p in model.historic_data.productions if p.year in [2019,2020] ])\n",
    "    co_historic_productions = pd.Series(data, idx)\n",
    "\n",
    "    co_projected_productions = (\n",
    "        co_historic_productions[2020]\n",
    "        * sector_growth_partial[sector_growth_partial.index>2020]\n",
    "    )\n",
    "\n",
    "    co_productions = pd.concat([co_historic_productions, co_projected_productions])\n",
    "\n",
    "    co_ei_trajectory = get_em_projections(model.projected_intensities)\n",
    "    co_ei_target = pd.concat([co_ei_trajectory.iloc[0:2],\n",
    "                              get_em_projections(model.projected_targets)])\n",
    "    plot_dict = {\n",
    "        \"Trajectory\": (co_productions * co_ei_trajectory).cumsum(),\n",
    "        \"Target\": (co_productions * co_ei_target).cumsum(),\n",
    "    }\n",
    "    if sector_ei_s1 is not None:\n",
    "        plot_dict[\"BenchmarkS1\"] = (co_productions[2019] * sector_growth_partial * sector_ei_s1s2).cumsum()\n",
    "    if sector_ei_s1s2 is not None:\n",
    "        plot_dict[\"BenchmarkS1S2\"] = (co_productions[2019] * sector_growth_partial * sector_ei_s1s2).cumsum()\n",
    "    if sector_ei_s1s2s3 is not None:\n",
    "        plot_dict[\"BenchmarkS1S2S3\"] = (co_productions[2019] * sector_growth_partial * sector_ei_s1s2s3).cumsum()\n",
    "    sector_df = pd.DataFrame(plot_dict)\n",
    "    display(px.line(sector_df, y=[k for k in plot_dict.keys()],\n",
    "            labels={'index':'Year', 'value':'t CO2', 'variable':model.company_id}))"
   ]
  },
  {
   "cell_type": "raw",
   "id": "8569dc25-78d3-41da-992e-2d5d60174326",
   "metadata": {},
   "source": [
    "print(f\"Overall sector growth through 2050: {round(sector_growth_partial.iloc[-1]-1,3)*100}%\")\n",
    "print(f\"Initial sector intensity: {sector_ei.iloc[0]}\")\n",
    "print(f\"Final sector intensity: {sector_ei.iloc[-1]}\")"
   ]
  },
  {
   "cell_type": "raw",
   "id": "eca90dd7-d1dd-4c7c-8087-fa86d3cdc625",
   "metadata": {},
   "source": [
    "for year in [2019, 2030, 2050]:\n",
    "    print(f\"{year} Mt CO2 {model.sector} {region} emissions = {(sector_prod_baseline * sector_growth_partial * sector_ei)[year]}\")\n",
    "print(f\"Cumulative Mt CO2 {model.sector} {region} emissions = {round(sector_prod_baseline * sector_growth_partial * sector_ei).cumsum()[2050]}\")"
   ]
  },
  {
   "cell_type": "raw",
   "id": "3a0a68ff-7d2d-46f3-a8e3-2b2250e4ee59",
   "metadata": {},
   "source": [
    "data, idx = zip(*[(p.value.m, p.year)\n",
    "                  for p in model.historic_data.productions if p.year in [2019,2020] ])\n",
    "co_historic_productions = pd.Series(data, idx)\n",
    "\n",
    "co_projected_productions = (\n",
    "    co_historic_productions[2020]\n",
    "    * sector_growth_partial[sector_growth_partial.index>2020]\n",
    ")\n",
    "\n",
    "co_productions = pd.concat([co_historic_productions, co_projected_productions])\n",
    "\n",
    "data, idx = zip(*[(p.value.m, p.year) for p in model.projected_intensities.S1S2.projections])\n",
    "co_ei_trajectory = pd.Series(data, idx)\n",
    "\n",
    "data, idx = zip(*[(p.value.m, p.year) for p in model.projected_targets.S1S2.projections])\n",
    "co_ei_target = pd.concat([co_ei_trajectory.iloc[0:2], pd.Series(data, idx)])"
   ]
  },
  {
   "cell_type": "raw",
   "id": "8f259252-39cd-4c9e-a5f8-bbd15a863d65",
   "metadata": {},
   "source": [
    "sector_df = pd.DataFrame({\n",
    "    \"Trajectory\": (co_productions * co_ei_trajectory).cumsum(),\n",
    "    \"Target\": (co_productions * co_ei_target).cumsum(),\n",
    "    \"Benchmark\": (co_productions[2019] * sector_growth_partial * sector_ei).cumsum()})\n",
    "px.line(sector_df, y=[\"Trajectory\", \"Target\", \"Benchmark\"],\n",
    "        labels={'index':'Year', 'value':'t CO2'})"
   ]
  },
  {
   "cell_type": "code",
   "execution_count": null,
   "id": "f7160014-cc76-493b-8868-074f9ee25bf3",
   "metadata": {},
   "outputs": [],
   "source": []
  }
 ],
 "metadata": {
  "kernelspec": {
   "display_name": "Python 3 (ipykernel)",
   "language": "python",
   "name": "python3"
  },
  "language_info": {
   "codemirror_mode": {
    "name": "ipython",
    "version": 3
   },
   "file_extension": ".py",
   "mimetype": "text/x-python",
   "name": "python",
   "nbconvert_exporter": "python",
   "pygments_lexer": "ipython3",
   "version": "3.9.13"
  }
 },
 "nbformat": 4,
 "nbformat_minor": 5
}
