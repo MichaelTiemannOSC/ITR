{
 "cells": [
  {
   "cell_type": "markdown",
   "metadata": {},
   "source": [
    "# ITR Tool - Quick Temperature Score Calculation\n",
    "This notebook provides a simple example of the ITR Toolkit. It shows how to use it to calculate the temperature score for companies, aggregate them to a portfolio level to get the portfolio temperature score. \n"
   ]
  },
  {
   "cell_type": "markdown",
   "metadata": {},
   "source": [
    "### Getting started\n",
    "Make sure you are running the notebook with the requirements installed available in the example folder"
   ]
  },
  {
   "cell_type": "code",
   "execution_count": 1,
   "metadata": {},
   "outputs": [
    {
     "name": "stdout",
     "output_type": "stream",
     "text": [
      "Looking in indexes: http://rdnexus1.ortec.finance:8081/nexus/repository/pypi-all/simple\n",
      "Requirement already satisfied: requests in d:\\anaconda3\\envs\\itr_env\\lib\\site-packages (from -r requirements.txt (line 1)) (2.25.1)\n",
      "Requirement already satisfied: jupyter==1.0.0 in d:\\anaconda3\\envs\\itr_env\\lib\\site-packages (from -r requirements.txt (line 2)) (1.0.0)\n",
      "Requirement already satisfied: pandas==1.0.3 in d:\\anaconda3\\envs\\itr_env\\lib\\site-packages (from -r requirements.txt (line 3)) (1.0.3)\n",
      "Requirement already satisfied: openpyxl==2.5.9 in d:\\anaconda3\\envs\\itr_env\\lib\\site-packages (from -r requirements.txt (line 4)) (2.5.9)\n",
      "Requirement already satisfied: matplotlib==3.2.2 in d:\\anaconda3\\envs\\itr_env\\lib\\site-packages (from -r requirements.txt (line 5)) (3.2.2)\n",
      "Requirement already satisfied: chardet<5,>=3.0.2 in d:\\anaconda3\\envs\\itr_env\\lib\\site-packages (from requests->-r requirements.txt (line 1)) (4.0.0)\n",
      "Requirement already satisfied: certifi>=2017.4.17 in d:\\anaconda3\\envs\\itr_env\\lib\\site-packages (from requests->-r requirements.txt (line 1)) (2021.5.30)\n",
      "Requirement already satisfied: idna<3,>=2.5 in d:\\anaconda3\\envs\\itr_env\\lib\\site-packages (from requests->-r requirements.txt (line 1)) (2.10)\n",
      "Requirement already satisfied: urllib3<1.27,>=1.21.1 in d:\\anaconda3\\envs\\itr_env\\lib\\site-packages (from requests->-r requirements.txt (line 1)) (1.26.6)\n",
      "Requirement already satisfied: notebook in d:\\anaconda3\\envs\\itr_env\\lib\\site-packages (from jupyter==1.0.0->-r requirements.txt (line 2)) (6.4.0)\n",
      "Requirement already satisfied: ipywidgets in d:\\anaconda3\\envs\\itr_env\\lib\\site-packages (from jupyter==1.0.0->-r requirements.txt (line 2)) (7.6.3)\n",
      "Requirement already satisfied: qtconsole in d:\\anaconda3\\envs\\itr_env\\lib\\site-packages (from jupyter==1.0.0->-r requirements.txt (line 2)) (5.1.1)\n",
      "Requirement already satisfied: jupyter-console in d:\\anaconda3\\envs\\itr_env\\lib\\site-packages (from jupyter==1.0.0->-r requirements.txt (line 2)) (6.4.0)\n",
      "Requirement already satisfied: ipykernel in d:\\anaconda3\\envs\\itr_env\\lib\\site-packages (from jupyter==1.0.0->-r requirements.txt (line 2)) (6.0.1)\n",
      "Requirement already satisfied: nbconvert in d:\\anaconda3\\envs\\itr_env\\lib\\site-packages (from jupyter==1.0.0->-r requirements.txt (line 2)) (6.1.0)\n",
      "Requirement already satisfied: python-dateutil>=2.6.1 in d:\\anaconda3\\envs\\itr_env\\lib\\site-packages (from pandas==1.0.3->-r requirements.txt (line 3)) (2.8.1)\n",
      "Requirement already satisfied: numpy>=1.13.3 in d:\\anaconda3\\envs\\itr_env\\lib\\site-packages (from pandas==1.0.3->-r requirements.txt (line 3)) (1.21.0)\n",
      "Requirement already satisfied: pytz>=2017.2 in d:\\anaconda3\\envs\\itr_env\\lib\\site-packages (from pandas==1.0.3->-r requirements.txt (line 3)) (2021.1)\n",
      "Requirement already satisfied: et-xmlfile in d:\\anaconda3\\envs\\itr_env\\lib\\site-packages (from openpyxl==2.5.9->-r requirements.txt (line 4)) (1.1.0)\n",
      "Requirement already satisfied: jdcal in d:\\anaconda3\\envs\\itr_env\\lib\\site-packages (from openpyxl==2.5.9->-r requirements.txt (line 4)) (1.4.1)\n",
      "Requirement already satisfied: cycler>=0.10 in d:\\anaconda3\\envs\\itr_env\\lib\\site-packages (from matplotlib==3.2.2->-r requirements.txt (line 5)) (0.10.0)\n",
      "Requirement already satisfied: kiwisolver>=1.0.1 in d:\\anaconda3\\envs\\itr_env\\lib\\site-packages (from matplotlib==3.2.2->-r requirements.txt (line 5)) (1.3.1)\n",
      "Requirement already satisfied: pyparsing!=2.0.4,!=2.1.2,!=2.1.6,>=2.0.1 in d:\\anaconda3\\envs\\itr_env\\lib\\site-packages (from matplotlib==3.2.2->-r requirements.txt (line 5)) (2.4.7)\n",
      "Requirement already satisfied: pyzmq>=17 in d:\\anaconda3\\envs\\itr_env\\lib\\site-packages (from notebook->jupyter==1.0.0->-r requirements.txt (line 2)) (22.1.0)\n",
      "Requirement already satisfied: Send2Trash>=1.5.0 in d:\\anaconda3\\envs\\itr_env\\lib\\site-packages (from notebook->jupyter==1.0.0->-r requirements.txt (line 2)) (1.7.1)\n",
      "Requirement already satisfied: tornado>=6.1 in d:\\anaconda3\\envs\\itr_env\\lib\\site-packages (from notebook->jupyter==1.0.0->-r requirements.txt (line 2)) (6.1)\n",
      "Requirement already satisfied: jupyter-core>=4.6.1 in d:\\anaconda3\\envs\\itr_env\\lib\\site-packages (from notebook->jupyter==1.0.0->-r requirements.txt (line 2)) (4.7.1)\n",
      "Requirement already satisfied: nbformat in d:\\anaconda3\\envs\\itr_env\\lib\\site-packages (from notebook->jupyter==1.0.0->-r requirements.txt (line 2)) (5.1.3)\n",
      "Requirement already satisfied: prometheus-client in d:\\anaconda3\\envs\\itr_env\\lib\\site-packages (from notebook->jupyter==1.0.0->-r requirements.txt (line 2)) (0.11.0)\n",
      "Requirement already satisfied: argon2-cffi in d:\\anaconda3\\envs\\itr_env\\lib\\site-packages (from notebook->jupyter==1.0.0->-r requirements.txt (line 2)) (20.1.0)\n",
      "Requirement already satisfied: terminado>=0.8.3 in d:\\anaconda3\\envs\\itr_env\\lib\\site-packages (from notebook->jupyter==1.0.0->-r requirements.txt (line 2)) (0.10.1)\n",
      "Requirement already satisfied: jinja2 in d:\\anaconda3\\envs\\itr_env\\lib\\site-packages (from notebook->jupyter==1.0.0->-r requirements.txt (line 2)) (3.0.1)\n",
      "Requirement already satisfied: traitlets>=4.2.1 in d:\\anaconda3\\envs\\itr_env\\lib\\site-packages (from notebook->jupyter==1.0.0->-r requirements.txt (line 2)) (5.0.5)\n",
      "Requirement already satisfied: jupyter-client>=5.3.4 in d:\\anaconda3\\envs\\itr_env\\lib\\site-packages (from notebook->jupyter==1.0.0->-r requirements.txt (line 2)) (6.2.0)\n",
      "Requirement already satisfied: ipython-genutils in d:\\anaconda3\\envs\\itr_env\\lib\\site-packages (from notebook->jupyter==1.0.0->-r requirements.txt (line 2)) (0.2.0)\n",
      "Requirement already satisfied: ipython>=4.0.0; python_version >= \"3.3\" in d:\\anaconda3\\envs\\itr_env\\lib\\site-packages (from ipywidgets->jupyter==1.0.0->-r requirements.txt (line 2)) (7.25.0)\n",
      "Requirement already satisfied: jupyterlab-widgets>=1.0.0; python_version >= \"3.6\" in d:\\anaconda3\\envs\\itr_env\\lib\\site-packages (from ipywidgets->jupyter==1.0.0->-r requirements.txt (line 2)) (1.0.0)\n",
      "Requirement already satisfied: widgetsnbextension~=3.5.0 in d:\\anaconda3\\envs\\itr_env\\lib\\site-packages (from ipywidgets->jupyter==1.0.0->-r requirements.txt (line 2)) (3.5.1)\n",
      "Requirement already satisfied: pygments in d:\\anaconda3\\envs\\itr_env\\lib\\site-packages (from qtconsole->jupyter==1.0.0->-r requirements.txt (line 2)) (2.9.0)\n",
      "Requirement already satisfied: qtpy in d:\\anaconda3\\envs\\itr_env\\lib\\site-packages (from qtconsole->jupyter==1.0.0->-r requirements.txt (line 2)) (1.9.0)\n",
      "Requirement already satisfied: prompt-toolkit!=3.0.0,!=3.0.1,<3.1.0,>=2.0.0 in d:\\anaconda3\\envs\\itr_env\\lib\\site-packages (from jupyter-console->jupyter==1.0.0->-r requirements.txt (line 2)) (3.0.19)\n",
      "Requirement already satisfied: importlib-metadata<4; python_version < \"3.8.0\" in d:\\anaconda3\\envs\\itr_env\\lib\\site-packages (from ipykernel->jupyter==1.0.0->-r requirements.txt (line 2)) (3.10.1)\n",
      "Requirement already satisfied: debugpy>=1.0.0 in d:\\anaconda3\\envs\\itr_env\\lib\\site-packages (from ipykernel->jupyter==1.0.0->-r requirements.txt (line 2)) (1.3.0)\n",
      "Requirement already satisfied: pandocfilters>=1.4.1 in d:\\anaconda3\\envs\\itr_env\\lib\\site-packages (from nbconvert->jupyter==1.0.0->-r requirements.txt (line 2)) (1.4.3)\n",
      "Requirement already satisfied: jupyterlab-pygments in d:\\anaconda3\\envs\\itr_env\\lib\\site-packages (from nbconvert->jupyter==1.0.0->-r requirements.txt (line 2)) (0.1.2)\n",
      "Requirement already satisfied: bleach in d:\\anaconda3\\envs\\itr_env\\lib\\site-packages (from nbconvert->jupyter==1.0.0->-r requirements.txt (line 2)) (3.3.0)\n",
      "Requirement already satisfied: testpath in d:\\anaconda3\\envs\\itr_env\\lib\\site-packages (from nbconvert->jupyter==1.0.0->-r requirements.txt (line 2)) (0.5.0)\n",
      "Requirement already satisfied: nbclient<0.6.0,>=0.5.0 in d:\\anaconda3\\envs\\itr_env\\lib\\site-packages (from nbconvert->jupyter==1.0.0->-r requirements.txt (line 2)) (0.5.3)\n",
      "Requirement already satisfied: entrypoints>=0.2.2 in d:\\anaconda3\\envs\\itr_env\\lib\\site-packages (from nbconvert->jupyter==1.0.0->-r requirements.txt (line 2)) (0.3)\n",
      "Requirement already satisfied: defusedxml in d:\\anaconda3\\envs\\itr_env\\lib\\site-packages (from nbconvert->jupyter==1.0.0->-r requirements.txt (line 2)) (0.7.1)\n",
      "Requirement already satisfied: mistune<2,>=0.8.1 in d:\\anaconda3\\envs\\itr_env\\lib\\site-packages (from nbconvert->jupyter==1.0.0->-r requirements.txt (line 2)) (0.8.4)\n",
      "Requirement already satisfied: six>=1.5 in d:\\anaconda3\\envs\\itr_env\\lib\\site-packages (from python-dateutil>=2.6.1->pandas==1.0.3->-r requirements.txt (line 3)) (1.15.0)\n",
      "Requirement already satisfied: pywin32>=1.0; sys_platform == \"win32\" in d:\\anaconda3\\envs\\itr_env\\lib\\site-packages (from jupyter-core>=4.6.1->notebook->jupyter==1.0.0->-r requirements.txt (line 2)) (301)\n",
      "Requirement already satisfied: jsonschema!=2.5.0,>=2.4 in d:\\anaconda3\\envs\\itr_env\\lib\\site-packages (from nbformat->notebook->jupyter==1.0.0->-r requirements.txt (line 2)) (3.2.0)\n",
      "Requirement already satisfied: cffi>=1.0.0 in d:\\anaconda3\\envs\\itr_env\\lib\\site-packages (from argon2-cffi->notebook->jupyter==1.0.0->-r requirements.txt (line 2)) (1.14.5)\n",
      "Requirement already satisfied: pywinpty>=1.1.0; os_name == \"nt\" in d:\\anaconda3\\envs\\itr_env\\lib\\site-packages (from terminado>=0.8.3->notebook->jupyter==1.0.0->-r requirements.txt (line 2)) (1.1.3)\n",
      "Requirement already satisfied: MarkupSafe>=2.0 in d:\\anaconda3\\envs\\itr_env\\lib\\site-packages (from jinja2->notebook->jupyter==1.0.0->-r requirements.txt (line 2)) (2.0.1)\n",
      "Requirement already satisfied: nest-asyncio>=1.5 in d:\\anaconda3\\envs\\itr_env\\lib\\site-packages (from jupyter-client>=5.3.4->notebook->jupyter==1.0.0->-r requirements.txt (line 2)) (1.5.1)\n",
      "Requirement already satisfied: matplotlib-inline in d:\\anaconda3\\envs\\itr_env\\lib\\site-packages (from ipython>=4.0.0; python_version >= \"3.3\"->ipywidgets->jupyter==1.0.0->-r requirements.txt (line 2)) (0.1.2)\n",
      "Requirement already satisfied: backcall in d:\\anaconda3\\envs\\itr_env\\lib\\site-packages (from ipython>=4.0.0; python_version >= \"3.3\"->ipywidgets->jupyter==1.0.0->-r requirements.txt (line 2)) (0.2.0)\n",
      "Requirement already satisfied: jedi>=0.16 in d:\\anaconda3\\envs\\itr_env\\lib\\site-packages (from ipython>=4.0.0; python_version >= \"3.3\"->ipywidgets->jupyter==1.0.0->-r requirements.txt (line 2)) (0.18.0)\n",
      "Requirement already satisfied: decorator in d:\\anaconda3\\envs\\itr_env\\lib\\site-packages (from ipython>=4.0.0; python_version >= \"3.3\"->ipywidgets->jupyter==1.0.0->-r requirements.txt (line 2)) (5.0.9)\n",
      "Requirement already satisfied: pickleshare in d:\\anaconda3\\envs\\itr_env\\lib\\site-packages (from ipython>=4.0.0; python_version >= \"3.3\"->ipywidgets->jupyter==1.0.0->-r requirements.txt (line 2)) (0.7.5)\n",
      "Requirement already satisfied: colorama; sys_platform == \"win32\" in d:\\anaconda3\\envs\\itr_env\\lib\\site-packages (from ipython>=4.0.0; python_version >= \"3.3\"->ipywidgets->jupyter==1.0.0->-r requirements.txt (line 2)) (0.4.4)\n",
      "Requirement already satisfied: setuptools>=18.5 in d:\\anaconda3\\envs\\itr_env\\lib\\site-packages (from ipython>=4.0.0; python_version >= \"3.3\"->ipywidgets->jupyter==1.0.0->-r requirements.txt (line 2)) (49.6.0.post20210108)\n",
      "Requirement already satisfied: wcwidth in d:\\anaconda3\\envs\\itr_env\\lib\\site-packages (from prompt-toolkit!=3.0.0,!=3.0.1,<3.1.0,>=2.0.0->jupyter-console->jupyter==1.0.0->-r requirements.txt (line 2)) (0.2.5)\n",
      "Requirement already satisfied: typing-extensions>=3.6.4; python_version < \"3.8\" in d:\\anaconda3\\envs\\itr_env\\lib\\site-packages (from importlib-metadata<4; python_version < \"3.8.0\"->ipykernel->jupyter==1.0.0->-r requirements.txt (line 2)) (3.10.0.0)\n",
      "Requirement already satisfied: zipp>=0.5 in d:\\anaconda3\\envs\\itr_env\\lib\\site-packages (from importlib-metadata<4; python_version < \"3.8.0\"->ipykernel->jupyter==1.0.0->-r requirements.txt (line 2)) (3.5.0)\n",
      "Requirement already satisfied: webencodings in d:\\anaconda3\\envs\\itr_env\\lib\\site-packages (from bleach->nbconvert->jupyter==1.0.0->-r requirements.txt (line 2)) (0.5.1)\n",
      "Requirement already satisfied: packaging in d:\\anaconda3\\envs\\itr_env\\lib\\site-packages (from bleach->nbconvert->jupyter==1.0.0->-r requirements.txt (line 2)) (21.0)\n",
      "Requirement already satisfied: async-generator in d:\\anaconda3\\envs\\itr_env\\lib\\site-packages (from nbclient<0.6.0,>=0.5.0->nbconvert->jupyter==1.0.0->-r requirements.txt (line 2)) (1.10)\n",
      "Requirement already satisfied: pyrsistent>=0.14.0 in d:\\anaconda3\\envs\\itr_env\\lib\\site-packages (from jsonschema!=2.5.0,>=2.4->nbformat->notebook->jupyter==1.0.0->-r requirements.txt (line 2)) (0.18.0)\n",
      "Requirement already satisfied: attrs>=17.4.0 in d:\\anaconda3\\envs\\itr_env\\lib\\site-packages (from jsonschema!=2.5.0,>=2.4->nbformat->notebook->jupyter==1.0.0->-r requirements.txt (line 2)) (21.2.0)\n",
      "Requirement already satisfied: pycparser in d:\\anaconda3\\envs\\itr_env\\lib\\site-packages (from cffi>=1.0.0->argon2-cffi->notebook->jupyter==1.0.0->-r requirements.txt (line 2)) (2.20)\n",
      "Requirement already satisfied: parso<0.9.0,>=0.8.0 in d:\\anaconda3\\envs\\itr_env\\lib\\site-packages (from jedi>=0.16->ipython>=4.0.0; python_version >= \"3.3\"->ipywidgets->jupyter==1.0.0->-r requirements.txt (line 2)) (0.8.2)\n"
     ]
    }
   ],
   "source": [
    "!pip install -r requirements.txt"
   ]
  },
  {
   "cell_type": "code",
   "execution_count": 2,
   "metadata": {
    "pycharm": {
     "is_executing": false
    },
    "scrolled": true
   },
   "outputs": [],
   "source": [
    "import ITR\n",
    "from ITR.data.excel import ExcelProvider\n",
    "from ITR.portfolio_aggregation import PortfolioAggregationMethod\n",
    "# from ITR.portfolio_coverage_tvp import PortfolioCoverageTVP\n",
    "from ITR.temperature_score import TemperatureScore\n",
    "# from ITR.target_validation import TargetProtocol\n",
    "from ITR.interfaces import ETimeFrames, EScope\n",
    "import pandas as pd"
   ]
  },
  {
   "cell_type": "markdown",
   "metadata": {},
   "source": [
    "## Download the dummy data provider\n",
    "We have prepared dummy data for you to be able to run the tool as it is to familiarise yourself with how it works. To use your own data; please check out to the [Data Requirements section](https://os-c.github.io/ITR/DataRequirements.html) of the technical documentation for more details on data requirements and formatting. \n",
    "\n",
    "*The dummy data may include some company names, but the data associated with those company names is completely random and any similarities with real world data is purely coincidental. \n"
   ]
  },
  {
   "cell_type": "code",
   "execution_count": 3,
   "metadata": {
    "pycharm": {
     "is_executing": false
    }
   },
   "outputs": [],
   "source": [
    "import urllib.request\n",
    "import os\n",
    "\n",
    "if not os.path.isdir(\"data\"):\n",
    "    os.mkdir(\"data\")\n",
    "if not os.path.isfile(\"data/data_provider_example.xlsx\"):\n",
    "    urllib.request.urlretrieve(\"https://github.com/os-c/ITR/tree/project-template/examples/data/data_provider_example.xlsx\", \"data/data_provider_example.xlsx\")\n",
    "if not os.path.isfile(\"data/example_portfolio.csv\"):\n",
    "    urllib.request.urlretrieve(\"https://github.com/os-c/ITR/tree/project-template/examples/data/example_portfolio.csv\", \"data/example_portfolio.csv\")"
   ]
  },
  {
   "cell_type": "markdown",
   "metadata": {},
   "source": [
    "##### Logging\n",
    "The ITR module uses the Python standard library logging utilities to send log messages. The log level can be changed according to the user's needs."
   ]
  },
  {
   "cell_type": "code",
   "execution_count": 4,
   "metadata": {
    "pycharm": {
     "is_executing": false
    }
   },
   "outputs": [],
   "source": [
    "import logging\n",
    "root_logger = logging.getLogger()\n",
    "root_logger.setLevel(\"INFO\")"
   ]
  },
  {
   "cell_type": "markdown",
   "metadata": {},
   "source": [
    "## Create a data provider\n",
    "Data providers let you connect to the data source of your choice. In this case we are connecting to Excel as a data provider. "
   ]
  },
  {
   "cell_type": "code",
   "execution_count": 5,
   "metadata": {
    "pycharm": {
     "is_executing": false
    }
   },
   "outputs": [],
   "source": [
    "provider = ExcelProvider(path=\"data/data_provider_example.xlsx\")"
   ]
  },
  {
   "cell_type": "markdown",
   "metadata": {},
   "source": [
    "## Load your portfolio\n",
    "In our case the portfolio is stored as a CSV file. The portfolio should at least have an \"id\" (the identifier of the company) and a \"proportion\" (the weight of the company in your portfolio e.g. the value of the shares you hold) column.\n",
    "\n",
    "Please see the technical documentation on [Data Legends](https://ofbdabv.github.io/SBTi/Legends.html#) for details on data requirements. "
   ]
  },
  {
   "cell_type": "code",
   "execution_count": 6,
   "metadata": {
    "pycharm": {
     "is_executing": false
    }
   },
   "outputs": [],
   "source": [
    "df_portfolio = pd.read_csv(\"data/example_portfolio.csv\", encoding=\"iso-8859-1\", sep=';')"
   ]
  },
  {
   "cell_type": "code",
   "execution_count": 7,
   "metadata": {
    "pycharm": {
     "is_executing": false
    }
   },
   "outputs": [
    {
     "data": {
      "text/html": [
       "<div>\n",
       "<style scoped>\n",
       "    .dataframe tbody tr th:only-of-type {\n",
       "        vertical-align: middle;\n",
       "    }\n",
       "\n",
       "    .dataframe tbody tr th {\n",
       "        vertical-align: top;\n",
       "    }\n",
       "\n",
       "    .dataframe thead th {\n",
       "        text-align: right;\n",
       "    }\n",
       "</style>\n",
       "<table border=\"1\" class=\"dataframe\">\n",
       "  <thead>\n",
       "    <tr style=\"text-align: right;\">\n",
       "      <th></th>\n",
       "      <th>company_name</th>\n",
       "      <th>company_id</th>\n",
       "      <th>company_isin</th>\n",
       "      <th>investment_value</th>\n",
       "    </tr>\n",
       "  </thead>\n",
       "  <tbody>\n",
       "    <tr>\n",
       "      <th>0</th>\n",
       "      <td>Company AG</td>\n",
       "      <td>US0079031078</td>\n",
       "      <td>US0079031078</td>\n",
       "      <td>35000000</td>\n",
       "    </tr>\n",
       "    <tr>\n",
       "      <th>1</th>\n",
       "      <td>Company AH</td>\n",
       "      <td>US00724F1012</td>\n",
       "      <td>US00724F1012</td>\n",
       "      <td>10000000</td>\n",
       "    </tr>\n",
       "    <tr>\n",
       "      <th>2</th>\n",
       "      <td>Company AI</td>\n",
       "      <td>FR0000125338</td>\n",
       "      <td>FR0000125338</td>\n",
       "      <td>10000000</td>\n",
       "    </tr>\n",
       "    <tr>\n",
       "      <th>3</th>\n",
       "      <td>Company AJ</td>\n",
       "      <td>US17275R1023</td>\n",
       "      <td>US17275R1023</td>\n",
       "      <td>10000000</td>\n",
       "    </tr>\n",
       "    <tr>\n",
       "      <th>4</th>\n",
       "      <td>Company AK</td>\n",
       "      <td>CH0198251305</td>\n",
       "      <td>CH0198251305</td>\n",
       "      <td>10000000</td>\n",
       "    </tr>\n",
       "  </tbody>\n",
       "</table>\n",
       "</div>"
      ],
      "text/plain": [
       "  company_name    company_id  company_isin  investment_value\n",
       "0   Company AG  US0079031078  US0079031078          35000000\n",
       "1   Company AH  US00724F1012  US00724F1012          10000000\n",
       "2   Company AI  FR0000125338  FR0000125338          10000000\n",
       "3   Company AJ  US17275R1023  US17275R1023          10000000\n",
       "4   Company AK  CH0198251305  CH0198251305          10000000"
      ]
     },
     "execution_count": 7,
     "metadata": {},
     "output_type": "execute_result"
    }
   ],
   "source": [
    "df_portfolio.head(5)"
   ]
  },
  {
   "cell_type": "markdown",
   "metadata": {},
   "source": [
    "To load the data from the data provider, we have to pass a list of IPortfolioCompany instances. The module has a strict [data model](https://ofbdabv.github.io/SBTi/autoapi/SBTi/interfaces/index.html) to convert Pandas Dataframe to the right object types we supplied a utility function.\n"
   ]
  },
  {
   "cell_type": "code",
   "execution_count": 8,
   "metadata": {
    "pycharm": {
     "is_executing": false
    }
   },
   "outputs": [],
   "source": [
    "companies = ITR.utils.dataframe_to_portfolio(df_portfolio)"
   ]
  },
  {
   "cell_type": "markdown",
   "metadata": {},
   "source": [
    "## Calculate the temperature scores\n",
    "In the amended portfolio you'll find your original portfolio, amended with the emissions and the temperature score."
   ]
  },
  {
   "cell_type": "code",
   "execution_count": 9,
   "metadata": {
    "pycharm": {
     "is_executing": false
    }
   },
   "outputs": [],
   "source": [
    "temperature_score = TemperatureScore(                  # all available options:\n",
    "    time_frames=list(ITR.interfaces.ETimeFrames),     # ETimeFrames:  LONG\n",
    "    scopes=[EScope.S1S2],    \n",
    "    aggregation_method=PortfolioAggregationMethod.WATS # Options for the aggregation method are WATS, TETS, AOTS, MOTS, EOTS, ECOTS, and ROTS.\n",
    ")\n",
    "amended_portfolio = temperature_score.calculate(data_providers=[provider], portfolio=companies)"
   ]
  },
  {
   "cell_type": "markdown",
   "metadata": {},
   "source": [
    "For every company the tool assigns a score for all the requested timeframe and scope combinations. In this example we used the full set resulting in 9 scores per company as displayed below:"
   ]
  },
  {
   "cell_type": "code",
   "execution_count": 10,
   "metadata": {
    "pycharm": {
     "is_executing": false
    }
   },
   "outputs": [
    {
     "ename": "NameError",
     "evalue": "name 'amended_portfolio' is not defined",
     "output_type": "error",
     "traceback": [
      "\u001b[1;31m---------------------------------------------------------------------------\u001b[0m",
      "\u001b[1;31mNameError\u001b[0m                                 Traceback (most recent call last)",
      "\u001b[1;32m~\\AppData\\Local\\Temp/ipykernel_9728/753266691.py\u001b[0m in \u001b[0;36m<module>\u001b[1;34m\u001b[0m\n\u001b[1;32m----> 1\u001b[1;33m \u001b[0mamended_portfolio\u001b[0m\u001b[1;33m[\u001b[0m\u001b[1;33m[\u001b[0m\u001b[1;34m'company_name'\u001b[0m\u001b[1;33m,\u001b[0m \u001b[1;34m'time_frame'\u001b[0m\u001b[1;33m,\u001b[0m \u001b[1;34m'scope'\u001b[0m\u001b[1;33m,\u001b[0m \u001b[1;34m'temperature_score'\u001b[0m\u001b[1;33m]\u001b[0m\u001b[1;33m]\u001b[0m\u001b[1;33m.\u001b[0m\u001b[0mhead\u001b[0m\u001b[1;33m(\u001b[0m\u001b[1;36m9\u001b[0m\u001b[1;33m)\u001b[0m\u001b[1;33m\u001b[0m\u001b[1;33m\u001b[0m\u001b[0m\n\u001b[0m",
      "\u001b[1;31mNameError\u001b[0m: name 'amended_portfolio' is not defined"
     ]
    }
   ],
   "source": [
    "amended_portfolio[['company_name', 'time_frame', 'scope', 'temperature_score']].head(9)"
   ]
  },
  {
   "cell_type": "markdown",
   "metadata": {},
   "source": [
    "## Calculate the aggregated temperature score\n",
    "Calculate an aggregated temperature score. This can be done using different aggregation methods. Here we'll use the \"Weighted Average Temperature Score\" (WATS) by initializing the TemperatureScore Object with PortfolioAggregationMethod.WATS. The temperature scores are calculated per time-frame/scope combination.\n"
   ]
  },
  {
   "cell_type": "code",
   "execution_count": null,
   "metadata": {},
   "outputs": [],
   "source": [
    "aggregated_scores = temperature_score.aggregate_scores(amended_portfolio)"
   ]
  },
  {
   "cell_type": "code",
   "execution_count": null,
   "metadata": {
    "scrolled": true
   },
   "outputs": [],
   "source": [
    "# Here we cast a ScoreAggregation object to a Pandas Dataframe for viewing the temp scores in a human readable way\n",
    "pd.DataFrame(aggregated_scores.dict()).applymap(lambda x: round(x['all']['score'], 2))"
   ]
  }
 ],
 "metadata": {
  "kernelspec": {
   "display_name": "Python 3 (ipykernel)",
   "language": "python",
   "name": "python3"
  },
  "language_info": {
   "codemirror_mode": {
    "name": "ipython",
    "version": 3
   },
   "file_extension": ".py",
   "mimetype": "text/x-python",
   "name": "python",
   "nbconvert_exporter": "python",
   "pygments_lexer": "ipython3",
   "version": "3.7.8"
  },
  "pycharm": {
   "stem_cell": {
    "cell_type": "raw",
    "metadata": {
     "collapsed": false
    },
    "source": []
   }
  }
 },
 "nbformat": 4,
 "nbformat_minor": 4
}
