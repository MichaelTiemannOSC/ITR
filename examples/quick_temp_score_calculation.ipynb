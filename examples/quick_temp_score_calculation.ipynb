{
 "cells": [
  {
   "cell_type": "markdown",
   "metadata": {},
   "source": [
    "# ITR Tool - Quick Temperature Score Calculation\n",
    "This notebook provides a simple example of the ITR Toolkit. It shows how to use it to calculate the temperature score for companies, aggregate them to a portfolio level to get the portfolio temperature score. \n"
   ]
  },
  {
   "cell_type": "markdown",
   "metadata": {},
   "source": [
    "### Getting started\n",
    "Make sure you are running the notebook with the requirements installed available in the example folder"
   ]
  },
  {
   "cell_type": "code",
   "execution_count": 21,
   "metadata": {},
   "outputs": [],
   "source": [
    "# !pip install ITR"
   ]
  },
  {
   "cell_type": "code",
   "execution_count": 22,
   "metadata": {
    "scrolled": true
   },
   "outputs": [],
   "source": [
    "import ITR\n",
    "from ITR.data.excel import ExcelProvider\n",
    "from ITR.portfolio_aggregation import PortfolioAggregationMethod\n",
    "from ITR.temperature_score import TemperatureScore\n",
    "from ITR.interfaces import ETimeFrames, EScope\n",
    "import pandas as pd\n",
    "\n",
    "\n"
   ]
  },
  {
   "cell_type": "markdown",
   "metadata": {},
   "source": [
    "## Download the dummy data provider\n",
    "We have prepared dummy data for you to be able to run the tool as it is to familiarise yourself with how it works. To use your own data; please check out to the [Data Requirements section](https://os-c.github.io/ITR/DataRequirements.html) of the technical documentation for more details on data requirements and formatting. \n",
    "\n",
    "*The dummy data may include some company names, but the data associated with those company names is completely random and any similarities with real world data is purely coincidental. \n"
   ]
  },
  {
   "cell_type": "code",
   "execution_count": 23,
   "metadata": {},
   "outputs": [],
   "source": [
    "import urllib.request\n",
    "import os\n",
    "\n",
    "if not os.path.isdir(\"data\"):\n",
    "    os.mkdir(\"data\")\n",
    "if not os.path.isfile(\"data/data_provider_example.xlsx\"):\n",
    "    urllib.request.urlretrieve(\"https://github.com/os-c/ITR/raw/main/examples/data/data_provider_example.xlsx\", \"data/data_provider_example.xlsx\")\n",
    "if not os.path.isfile(\"data/example_portfolio.csv\"):\n",
    "    urllib.request.urlretrieve(\"https://github.com/os-c/ITR/raw/main/examples/data/example_portfolio.csv\", \"data/example_portfolio.csv\")\n",
    "if not os.path.isfile(\"utils.py\"):\n",
    "    urllib.request.urlretrieve(\"https://github.com/os-c/ITR/raw/main/examples/utils.py\", \"utils.py\")\n",
    "try:  # Import statement when run in remote Jupyter servers from AWS Google etc..\n",
    "    from utils import collect_company_contributions, plot_grouped_statistics, anonymize, \\\n",
    "        plot_grouped_heatmap, print_grouped_scores, get_contributions_per_group\n",
    "except:  # Import statement when run locally\n",
    "    from utils import collect_company_contributions, plot_grouped_statistics, anonymize, \\\n",
    "        plot_grouped_heatmap, print_grouped_scores, get_contributions_per_group"
   ]
  },
  {
   "cell_type": "markdown",
   "metadata": {},
   "source": [
    "##### Logging\n",
    "The ITR module uses the Python standard library logging utilities to send log messages. The log level can be changed according to the user's needs."
   ]
  },
  {
   "cell_type": "code",
   "execution_count": 24,
   "metadata": {},
   "outputs": [],
   "source": [
    "import logging\n",
    "root_logger = logging.getLogger()\n",
    "root_logger.setLevel(\"INFO\")"
   ]
  },
  {
   "cell_type": "markdown",
   "metadata": {},
   "source": [
    "## Create a data provider\n",
    "Data providers let you connect to the data source of your choice. In this case we are connecting to Excel as a data provider. "
   ]
  },
  {
   "cell_type": "code",
   "execution_count": 25,
   "metadata": {},
   "outputs": [],
   "source": [
    "provider = ExcelProvider(path=\"data/data_provider_example.xlsx\")"
   ]
  },
  {
   "cell_type": "markdown",
   "metadata": {},
   "source": [
    "## Load your portfolio\n",
    "In our case the portfolio is stored as a CSV file. The portfolio should at least have an \"id\" (the identifier of the company) and a \"proportion\" (the weight of the company in your portfolio e.g. the value of the shares you hold) column.\n",
    "\n",
    "Please see the technical documentation on [Data Legends](https://ofbdabv.github.io/SBTi/Legends.html#) for details on data requirements. "
   ]
  },
  {
   "cell_type": "code",
   "execution_count": 26,
   "metadata": {},
   "outputs": [],
   "source": [
    "df_portfolio = pd.read_csv(\"data/example_portfolio.csv\", encoding=\"iso-8859-1\", sep=';')"
   ]
  },
  {
   "cell_type": "code",
   "execution_count": 27,
   "metadata": {},
   "outputs": [
    {
     "data": {
      "text/plain": "  company_name    company_id  company_isin  investment_value\n0   Company AG  US0079031078  US0079031078          35000000\n1   Company AH  US00724F1012  US00724F1012          10000000\n2   Company AI  FR0000125338  FR0000125338          10000000\n3   Company AJ  US17275R1023  US17275R1023          10000000\n4   Company AK  CH0198251305  CH0198251305          10000000",
      "text/html": "<div>\n<style scoped>\n    .dataframe tbody tr th:only-of-type {\n        vertical-align: middle;\n    }\n\n    .dataframe tbody tr th {\n        vertical-align: top;\n    }\n\n    .dataframe thead th {\n        text-align: right;\n    }\n</style>\n<table border=\"1\" class=\"dataframe\">\n  <thead>\n    <tr style=\"text-align: right;\">\n      <th></th>\n      <th>company_name</th>\n      <th>company_id</th>\n      <th>company_isin</th>\n      <th>investment_value</th>\n    </tr>\n  </thead>\n  <tbody>\n    <tr>\n      <th>0</th>\n      <td>Company AG</td>\n      <td>US0079031078</td>\n      <td>US0079031078</td>\n      <td>35000000</td>\n    </tr>\n    <tr>\n      <th>1</th>\n      <td>Company AH</td>\n      <td>US00724F1012</td>\n      <td>US00724F1012</td>\n      <td>10000000</td>\n    </tr>\n    <tr>\n      <th>2</th>\n      <td>Company AI</td>\n      <td>FR0000125338</td>\n      <td>FR0000125338</td>\n      <td>10000000</td>\n    </tr>\n    <tr>\n      <th>3</th>\n      <td>Company AJ</td>\n      <td>US17275R1023</td>\n      <td>US17275R1023</td>\n      <td>10000000</td>\n    </tr>\n    <tr>\n      <th>4</th>\n      <td>Company AK</td>\n      <td>CH0198251305</td>\n      <td>CH0198251305</td>\n      <td>10000000</td>\n    </tr>\n  </tbody>\n</table>\n</div>"
     },
     "execution_count": 27,
     "metadata": {},
     "output_type": "execute_result"
    }
   ],
   "source": [
    "df_portfolio.head(5)"
   ]
  },
  {
   "cell_type": "markdown",
   "metadata": {},
   "source": [
    "To load the data from the data provider, we have to pass a list of IPortfolioCompany instances. The module has a strict [data model](https://ofbdabv.github.io/SBTi/autoapi/SBTi/interfaces/index.html) to convert Pandas Dataframe to the right object types we supplied a utility function.\n"
   ]
  },
  {
   "cell_type": "code",
   "execution_count": 28,
   "metadata": {},
   "outputs": [],
   "source": [
    "companies = ITR.utils.dataframe_to_portfolio(df_portfolio)"
   ]
  },
  {
   "cell_type": "markdown",
   "metadata": {},
   "source": [
    "## Calculate the temperature scores\n",
    "In the amended portfolio you'll find your original portfolio, amended with the emissions and the temperature score."
   ]
  },
  {
   "cell_type": "code",
   "execution_count": 29,
   "metadata": {},
   "outputs": [
    {
     "name": "stderr",
     "output_type": "stream",
     "text": [
      "c:\\users\\jurj\\smartgit\\itr\\venv\\lib\\site-packages\\pandas\\core\\frame.py:3607: SettingWithCopyWarning: \n",
      "A value is trying to be set on a copy of a slice from a DataFrame.\n",
      "Try using .loc[row_indexer,col_indexer] = value instead\n",
      "\n",
      "See the caveats in the documentation: https://pandas.pydata.org/pandas-docs/stable/user_guide/indexing.html#returning-a-view-versus-a-copy\n",
      "  self._set_item(key, value)\n"
     ]
    }
   ],
   "source": [
    "temperature_score = TemperatureScore(                  # all available options:\n",
    "    time_frames = [ETimeFrames.LONG],     # ETimeFrames:  LONG\n",
    "    scopes=[EScope.S1S2],    \n",
    "    aggregation_method=PortfolioAggregationMethod.WATS # Options for the aggregation method are WATS, TETS, AOTS, MOTS, EOTS, ECOTS, and ROTS.\n",
    ")\n",
    "amended_portfolio = temperature_score.calculate(data_providers=[provider], portfolio=companies)"
   ]
  },
  {
   "cell_type": "markdown",
   "metadata": {},
   "source": [
    "For every company the tool assigns a score for all the requested timeframe and scope combinations. In this example we used the full set resulting in 9 scores per company as displayed below:"
   ]
  },
  {
   "cell_type": "code",
   "execution_count": 30,
   "metadata": {},
   "outputs": [
    {
     "data": {
      "text/plain": "   company_name time_frame scope  temperature_score\n2    Company AG       LONG  S1S2         3053046.25\n5    Company AH       LONG  S1S2         5062039.57\n8    Company AI       LONG  S1S2          848754.31\n11   Company AJ       LONG  S1S2          156238.29\n14   Company AK       LONG  S1S2        29449781.11\n17   Company AL       LONG  S1S2          190889.13\n20   Company AM       LONG  S1S2         3452805.77\n23   Company AN       LONG  S1S2           85822.20\n26   Company AO       LONG  S1S2          446739.52",
      "text/html": "<div>\n<style scoped>\n    .dataframe tbody tr th:only-of-type {\n        vertical-align: middle;\n    }\n\n    .dataframe tbody tr th {\n        vertical-align: top;\n    }\n\n    .dataframe thead th {\n        text-align: right;\n    }\n</style>\n<table border=\"1\" class=\"dataframe\">\n  <thead>\n    <tr style=\"text-align: right;\">\n      <th></th>\n      <th>company_name</th>\n      <th>time_frame</th>\n      <th>scope</th>\n      <th>temperature_score</th>\n    </tr>\n  </thead>\n  <tbody>\n    <tr>\n      <th>2</th>\n      <td>Company AG</td>\n      <td>LONG</td>\n      <td>S1S2</td>\n      <td>3053046.25</td>\n    </tr>\n    <tr>\n      <th>5</th>\n      <td>Company AH</td>\n      <td>LONG</td>\n      <td>S1S2</td>\n      <td>5062039.57</td>\n    </tr>\n    <tr>\n      <th>8</th>\n      <td>Company AI</td>\n      <td>LONG</td>\n      <td>S1S2</td>\n      <td>848754.31</td>\n    </tr>\n    <tr>\n      <th>11</th>\n      <td>Company AJ</td>\n      <td>LONG</td>\n      <td>S1S2</td>\n      <td>156238.29</td>\n    </tr>\n    <tr>\n      <th>14</th>\n      <td>Company AK</td>\n      <td>LONG</td>\n      <td>S1S2</td>\n      <td>29449781.11</td>\n    </tr>\n    <tr>\n      <th>17</th>\n      <td>Company AL</td>\n      <td>LONG</td>\n      <td>S1S2</td>\n      <td>190889.13</td>\n    </tr>\n    <tr>\n      <th>20</th>\n      <td>Company AM</td>\n      <td>LONG</td>\n      <td>S1S2</td>\n      <td>3452805.77</td>\n    </tr>\n    <tr>\n      <th>23</th>\n      <td>Company AN</td>\n      <td>LONG</td>\n      <td>S1S2</td>\n      <td>85822.20</td>\n    </tr>\n    <tr>\n      <th>26</th>\n      <td>Company AO</td>\n      <td>LONG</td>\n      <td>S1S2</td>\n      <td>446739.52</td>\n    </tr>\n  </tbody>\n</table>\n</div>"
     },
     "execution_count": 30,
     "metadata": {},
     "output_type": "execute_result"
    }
   ],
   "source": [
    "amended_portfolio[['company_name', 'time_frame', 'scope', 'temperature_score']].head(9)"
   ]
  },
  {
   "cell_type": "markdown",
   "metadata": {},
   "source": [
    "## Calculate the aggregated temperature score\n",
    "Calculate an aggregated temperature score. This can be done using different aggregation methods. Here we'll use the \"Weighted Average Temperature Score\" (WATS) by initializing the TemperatureScore Object with PortfolioAggregationMethod.WATS. The temperature scores are calculated per time-frame/scope combination.\n"
   ]
  },
  {
   "cell_type": "code",
   "execution_count": 31,
   "metadata": {},
   "outputs": [],
   "source": [
    "aggregated_scores = temperature_score.aggregate_scores(amended_portfolio)"
   ]
  },
  {
   "cell_type": "code",
   "execution_count": 32,
   "metadata": {},
   "outputs": [
    {
     "data": {
      "text/plain": "3001168.5430909093"
     },
     "execution_count": 32,
     "metadata": {},
     "output_type": "execute_result"
    }
   ],
   "source": [
    "aggregated_scores.long.S1S2.all.score"
   ]
  },
  {
   "cell_type": "markdown",
   "metadata": {},
   "source": [
    "\n",
    "The first analysis of your portfolio could be to understand if you have any particular hotspots in your portfolio. We can do that by analysing different groupings of companies.\n",
    "\n",
    "The tool allows you to calculate temperature scores for _groups_ of companies. In this example we group the scores by sector and region, and leave the timeframe and scope unchanged. Any categorical variable in the data provided by you or your data provider (in the `Data_Provider_Example.xlsx` imported above) can be used as grouping variable, e.g. sectors, industries, regions, countries, market cap buckets, as well as the additional fields you imported via the portfolio data.\n",
    "\n",
    "You can change the variable by which the data is grouped by replacing the fourth line in the following cell. For example, replacing \"grouping=['sector', 'region']\" by \"grouping=['sector', 'country']\" would result in temperature scores per sector per country. \n",
    "If you want to change the time frame as well, please refer to the section 'Calculate the company temperature scores' above.\n",
    "\n"
   ]
  },
  {
   "cell_type": "code",
   "execution_count": null,
   "metadata": {
    "scrolled": true,
    "pycharm": {
     "is_executing": true
    }
   },
   "outputs": [
    {
     "name": "stderr",
     "output_type": "stream",
     "text": [
      "c:\\users\\jurj\\smartgit\\itr\\venv\\lib\\site-packages\\pandas\\core\\frame.py:3607: SettingWithCopyWarning: \n",
      "A value is trying to be set on a copy of a slice from a DataFrame.\n",
      "Try using .loc[row_indexer,col_indexer] = value instead\n",
      "\n",
      "See the caveats in the documentation: https://pandas.pydata.org/pandas-docs/stable/user_guide/indexing.html#returning-a-view-versus-a-copy\n",
      "  self._set_item(key, value)\n"
     ]
    }
   ],
   "source": [
    "grouping = ['sector', 'region']\n",
    "temperature_score.grouping = grouping\n",
    "grouped_portfolio = temperature_score.calculate(data_providers=[provider], portfolio=companies)\n",
    "grouped_aggregations = temperature_score.aggregate_scores(grouped_portfolio)"
   ]
  },
  {
   "cell_type": "markdown",
   "metadata": {},
   "source": [
    "\n",
    "The aggregated scores can then be used, for example, to show the relation between sectors and regions with respect to temperature score.\n",
    "A visualization of this relation is shown in the heatmap below. The grey fields indicate that the portfolio contains no assest for those combinations.\n",
    "\n",
    "##### Quick analysis\n",
    "\n",
    "We can see here that our North American (NA) Materials, Eurpean Health care are in reasonable shape. While NA IT can be improved as shown in the drill down below the graph\n",
    "\n"
   ]
  },
  {
   "cell_type": "code",
   "execution_count": null,
   "metadata": {
    "pycharm": {
     "is_executing": true
    }
   },
   "outputs": [],
   "source": [
    "\n",
    "analysis_parameters = ([ETimeFrames.LONG], [EScope.S1S2], grouping)\n",
    "plot_grouped_heatmap(grouped_aggregations, analysis_parameters)"
   ]
  },
  {
   "cell_type": "code",
   "execution_count": null,
   "metadata": {
    "pycharm": {
     "is_executing": true
    }
   },
   "outputs": [],
   "source": [
    "region =  'North America'\n",
    "sector = 'Information Technology'\n",
    "group = sector + '-' + region\n",
    "group_contributions = get_contributions_per_group(grouped_aggregations, analysis_parameters, group)\n",
    "group_contributions.round(2)"
   ]
  },
  {
   "cell_type": "markdown",
   "metadata": {},
   "source": [
    "#### Sector analysis\n",
    "\n",
    "Sector analysis may help us with bringing some clarity into our analysis from the heatmap above. In order to identify the companies that your portfolio would most benefit from engaging with, we can start with identifying the biggest contributing sectors to the portfolio's temperature score, as in our example below.\n",
    "\n",
    "Contributions can be identified on an individual company level, as well as contributions from companies grouped by one of their characteristics, e.g. sector or region. The exact definitions of companies' contributions to the portfolio temperature scores depend on the selected aggregation method.\n",
    "\n",
    "You can group companies on any categorical variable (e.g. sectors, countries, market cap buckets, investment strategies, etc)  you provide through your dataprovider, in this example in the Data_Provider_Example.xlsx imported above.\n",
    "\n",
    "For our analysis we select one time-frame (LONG) and one scope (S1+S2) and group the outcomes on sector and compare AUM to temperature score contribution. We also then display the sector temperature scores.\n",
    "\n",
    "##### Quick analysis\n",
    "\n",
    "In this example we can see that several sectors are scoring above 2.0C. From the pie charts we can also see that Industrials and Utilities are contributing more to the temperature score than their weight in the portfolio.\n"
   ]
  },
  {
   "cell_type": "code",
   "execution_count": null,
   "metadata": {
    "pycharm": {
     "is_executing": true
    }
   },
   "outputs": [],
   "source": [
    "time_frames = [ETimeFrames.LONG]\n",
    "scopes = [EScope.S1S2]\n",
    "grouping = ['sector']\n",
    "analysis_parameters = (time_frames, scopes, grouping)\n",
    "\n",
    "temperature_score = TemperatureScore(time_frames=time_frames,\n",
    "                                     scopes=scopes,\n",
    "                                     grouping=grouping)\n",
    "amended_portfolio = temperature_score.calculate(data_providers=[provider], portfolio=companies)\n",
    "aggregated_portfolio = temperature_score.aggregate_scores(amended_portfolio)\n",
    "company_contributions = collect_company_contributions(aggregated_portfolio, amended_portfolio, analysis_parameters)"
   ]
  },
  {
   "cell_type": "code",
   "execution_count": null,
   "metadata": {
    "pycharm": {
     "is_executing": true
    }
   },
   "outputs": [],
   "source": [
    "\n",
    "plot_grouped_statistics(aggregated_portfolio, company_contributions, analysis_parameters)"
   ]
  },
  {
   "cell_type": "markdown",
   "metadata": {},
   "source": [
    "We can use what we learned from this analysis to drill into a few of the highest contributing scoring sectors to see which\n",
    "companies are the biggest contributors on the sector level. Considering the Industrials sector, for instance, in the\n",
    "table below.\n"
   ]
  },
  {
   "cell_type": "code",
   "execution_count": null,
   "metadata": {
    "pycharm": {
     "is_executing": true
    }
   },
   "outputs": [],
   "source": [
    "\n",
    "sector_contributions = company_contributions[['company_name', 'company_id', 'sector', 'contribution', 'temperature_score', 'ownership_percentage', 'portfolio_percentage']]\n",
    "sector_contributions.loc[sector_contributions['sector'] == 'Industrials'][:10].round(2)"
   ]
  },
  {
   "cell_type": "markdown",
   "metadata": {},
   "source": [
    "### Save your data for further analysis\n",
    "To take your analysis outside of this notebook and for example for internal and client reporting, you can export all data to Excel and the clipboard for pasting into and analysing in other applications.\n",
    "\n",
    "If you run the ITR tool locally or from Google Colab, you:\n",
    "- Specify the filenames of the output files in the cell below, e.g. change 'data_dump.xlsx' in the first line to 'TS_output.xlsx'\n",
    "- Run the cell below"
   ]
  },
  {
   "cell_type": "code",
   "execution_count": null,
   "metadata": {
    "pycharm": {
     "name": "#%%\n",
     "is_executing": true
    }
   },
   "outputs": [],
   "source": [
    "data_dump_filename = 'data_dump.xlsx'\n",
    "amended_portfolio.set_index(['company_name', 'company_id']).to_excel(data_dump_filename)"
   ]
  },
  {
   "cell_type": "code",
   "execution_count": null,
   "outputs": [],
   "source": [
    "provider.get_company_data([\"US0079031078\",\n",
    "                           \"US00724F1012\",\n",
    "                           \"FR0000125338\",\n",
    "                           ])\n"
   ],
   "metadata": {
    "collapsed": false,
    "pycharm": {
     "name": "#%%\n",
     "is_executing": true
    }
   }
  }
 ],
 "metadata": {
  "kernelspec": {
   "name": "python3",
   "language": "python",
   "display_name": "Python 3 (ipykernel)"
  },
  "language_info": {
   "codemirror_mode": {
    "name": "ipython",
    "version": 3
   },
   "file_extension": ".py",
   "mimetype": "text/x-python",
   "name": "python",
   "nbconvert_exporter": "python",
   "pygments_lexer": "ipython3",
   "version": "3.7.8"
  }
 },
 "nbformat": 4,
 "nbformat_minor": 4
}