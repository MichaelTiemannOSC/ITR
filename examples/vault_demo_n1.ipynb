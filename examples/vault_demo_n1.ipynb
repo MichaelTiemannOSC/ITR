{
 "cells": [
  {
   "cell_type": "markdown",
   "id": "e3c5c7d5-63e0-47a5-ac4a-bb58beb98995",
   "metadata": {},
   "source": [
    "# Data Vault Demo (Quant, can also score own portfolio)\n",
    "\n",
    "The basic concept of the Data Vault is that when a user authenticates themself, they receive an engine that gives them access to all the data (rows, columns, tables, schema, etc.) for which they are authorized.  Users who can authenticate themselves for multiple roles can use those roles simultaneously.  We are keeping in mind the importance of Data Lineage Management (tracked by issue https://github.com/os-climate/os_c_data_commons/issues/50) but is not treated as part of this particular prototype.\n",
    "\n",
    "The steps of this demo are:\n",
    "\n",
    "1. **Authenticate and acquire SQLAlchemy engine**\n",
    "    1. Dev engine sees all\n",
    "    2. **Quant engine can do temp scoring but not see fundamental company info**\n",
    "    3. User engine can use temp scoring but not see cumulative emissions nor overshoot info\n",
    "2. With Dev engine, construct Vaults for:\n",
    "    1. Fundamental corporate financial information\n",
    "    2. Corporate emissions data (base year, historical)\n",
    "    3. Corporate target data (start year, end year, target start value, target end value)\n",
    "    4. Sector benchmark data (production, CO2e intensity)\n",
    "3. Dev Engine: Visualize projected emissions (targets and trajectories) and calculate cumulative emissions\n",
    "4. **Quant Engine: Using calculated cumulative emmisions, visualize per-company trajectory and target temperature scores**\n",
    "5. User Engine: Using consensus probability scoring and own portfolio data (ISIN, position value)\n",
    "    1. Calculate publishable per-company temperature alignment score\n",
    "    2. Based on aggregate corporate and portfolio information, produce weighting scores to yield overall portfolio alignment score"
   ]
  },
  {
   "cell_type": "code",
   "execution_count": 1,
   "id": "0eefeec9-b70b-440e-8d83-d4e5dff25002",
   "metadata": {},
   "outputs": [
    {
     "name": "stderr",
     "output_type": "stream",
     "text": [
      "/opt/app-root/lib64/python3.8/site-packages/openscm_units/_unit_registry.py:471: FutureWarning: iteritems is deprecated and will be removed in a future version. Use .items instead.\n",
      "  for label, val in metric_conversion.iteritems():\n"
     ]
    },
    {
     "name": "stdout",
     "output_type": "stream",
     "text": [
      "using connect string: trino://MichaelTiemannOSC@trino-secure-odh-trino.apps.odh-cl2.apps.os-climate.org:443/osc_datacommons_dev/demo_dv\n"
     ]
    }
   ],
   "source": [
    "import os\n",
    "import pathlib\n",
    "from dotenv import load_dotenv\n",
    "import osc_ingest_trino as osc\n",
    "import trino\n",
    "from sqlalchemy.engine import create_engine\n",
    "\n",
    "import json\n",
    "import pandas as pd\n",
    "from pint_pandas import PintArray\n",
    "from numpy.testing import assert_array_equal\n",
    "import ITR\n",
    "\n",
    "# from ITR.portfolio_aggregation import PortfolioAggregationMethod\n",
    "# from ITR.temperature_score import TemperatureScore\n",
    "# from ITR.configs import ColumnsConfig, TemperatureScoreConfig\n",
    "# from ITR.data.data_warehouse import DataWarehouse\n",
    "from ITR.data.vault_providers import VaultCompanyDataProvider, VaultProviderProductionBenchmark, \\\n",
    "    VaultProviderIntensityBenchmark, DataVaultWarehouse, requantify_df\n",
    "\n",
    "# from ITR.interfaces import ICompanyData, EScope, ETimeFrames, PortfolioCompany, IEIBenchmarkScopes, \\\n",
    "#     IProductionBenchmarkScopes\n",
    "from ITR.interfaces import EScope, IProductionBenchmarkScopes, IEIBenchmarkScopes\n",
    "from ITR.data.osc_units import ureg, Q_, PA_\n",
    "\n",
    "# Load some standard environment variables from a dot-env file, if it exists.\n",
    "# If no such file can be found, does not fail, and so allows these environment vars to\n",
    "# be populated in some other way\n",
    "dotenv_dir = os.environ.get('CREDENTIAL_DOTENV_DIR', os.environ.get('PWD', '/opt/app-root/src'))\n",
    "dotenv_path = pathlib.Path(dotenv_dir) / 'credentials.env'\n",
    "if os.path.exists(dotenv_path):\n",
    "    load_dotenv(dotenv_path=dotenv_path,override=True)"
   ]
  },
  {
   "cell_type": "markdown",
   "id": "64a3977b-37a7-43d1-93c3-fc1bfba03a60",
   "metadata": {
    "jp-MarkdownHeadingCollapsed": true,
    "tags": []
   },
   "source": [
    "### Step 1: Initialize Vault user 'Quant', which has limited visibility into corporate financial, production, and target data"
   ]
  },
  {
   "cell_type": "markdown",
   "id": "46592631-4c95-4962-ab6e-ec26b1d471df",
   "metadata": {},
   "source": [
    "### The ITR module provides Vault objects that coordinate the interaction of Dev, Quant, and User roles.\n",
    "\n",
    "The SQLAlchemy engines mediate the actual interaction with the Data Vault."
   ]
  },
  {
   "cell_type": "code",
   "execution_count": 2,
   "id": "07ef60e6-a328-4657-aad3-23d78abcbfea",
   "metadata": {},
   "outputs": [
    {
     "name": "stdout",
     "output_type": "stream",
     "text": [
      "connecting with engine Engine(trino://os-climate-user2@trino-secure-odh-trino.apps.odh-cl2.apps.os-climate.org:443/)\n",
      "show tables in demo_dv\n",
      "[('itr_benchmark_ei',), ('itr_benchmark_prod',), ('itr_company_data',), ('itr_cumulative_budget_1',), ('itr_cumulative_emissions',), ('itr_emissions_data',), ('itr_production_data',), ('itr_target_data',), ('itr_temperature_scores',), ('itr_trajectory_data',)]\n"
     ]
    },
    {
     "data": {
      "text/plain": [
       "[('itr_benchmark_ei',),\n",
       " ('itr_benchmark_prod',),\n",
       " ('itr_company_data',),\n",
       " ('itr_cumulative_budget_1',),\n",
       " ('itr_cumulative_emissions',),\n",
       " ('itr_emissions_data',),\n",
       " ('itr_production_data',),\n",
       " ('itr_target_data',),\n",
       " ('itr_temperature_scores',),\n",
       " ('itr_trajectory_data',)]"
      ]
     },
     "execution_count": 2,
     "metadata": {},
     "output_type": "execute_result"
    }
   ],
   "source": [
    "sqlstring = 'trino://{user}@{host}:{port}/'.format(\n",
    "    user = os.environ['TRINO_USER_USER2'],\n",
    "    host = os.environ['TRINO_HOST'],\n",
    "    port = os.environ['TRINO_PORT']\n",
    ")\n",
    "\n",
    "ingest_catalog = 'osc_datacommons_dev'\n",
    "ingest_schema = 'demo_dv'\n",
    "itr_prefix = 'itr_'\n",
    "\n",
    "sqlargs = {\n",
    "    'auth': trino.auth.JWTAuthentication(os.environ['TRINO_PASSWD_USER2']),\n",
    "    'http_scheme': 'https',\n",
    "    'catalog': ingest_catalog,\n",
    "    'schema': ingest_schema,\n",
    "}\n",
    "\n",
    "engine_quant = create_engine(sqlstring, connect_args = sqlargs)\n",
    "print(\"connecting with engine \" + str(engine_quant))\n",
    "osc._do_sql(f\"show tables in {ingest_schema}\", engine_quant, verbose=True)"
   ]
  },
  {
   "cell_type": "markdown",
   "id": "c324a067-d0a3-4010-9208-a52f20fd3641",
   "metadata": {},
   "source": [
    "### The ITR module provides Vault objects that coordinate the interaction of Dev, Quant, and User roles.\n",
    "\n",
    "The SQLAlchemy engines mediate the actual interaction with the Data Vault."
   ]
  },
  {
   "cell_type": "markdown",
   "id": "1848722a-342e-46bd-b8fe-aa0001d4d28c",
   "metadata": {},
   "source": [
    "### Steps 2 & 3: Done in Dev part of vault_demo_n0\n",
    "\n",
    "### Step 4: Use Quant engine to access and visualize temperature scores\n",
    "\n",
    "When the Data Vault is ready to be implemented, we can demonstrate that the Quant engine does not have access to primary company data (neither financial nor production)"
   ]
  },
  {
   "cell_type": "markdown",
   "id": "12482310-25de-42eb-8d0c-52f56d07f627",
   "metadata": {},
   "source": [
    "Show that we *cannot* access fundamental company data (cannot show until op1st team changes permissions)"
   ]
  },
  {
   "cell_type": "code",
   "execution_count": 3,
   "id": "5af9e376-10a4-4ad6-bf7a-65f925c43329",
   "metadata": {},
   "outputs": [
    {
     "name": "stdout",
     "output_type": "stream",
     "text": [
      "\n",
      "select C.company_name, C.company_id from demo_dv.itr_company_data C left join demo_dv.itr_target_data EI on EI.company_name=C.company_name\n",
      "where EI.ei_s1_by_year is NULL and EI.ei_s1s2_by_year is NULL and EI.ei_s1s2s3_by_year is NULL\n",
      "\n",
      "[]\n"
     ]
    }
   ],
   "source": [
    "vault_company_data = VaultCompanyDataProvider (engine_quant,\n",
    "                                               company_table=f'{itr_prefix}company_data',\n",
    "                                               target_table=None,\n",
    "                                               trajectory_table=None,\n",
    "                                               company_schema='demo_dv',\n",
    "                                               column_config=None)"
   ]
  },
  {
   "cell_type": "code",
   "execution_count": 4,
   "id": "c083622d-cde4-4f86-acde-49016a155824",
   "metadata": {},
   "outputs": [],
   "source": [
    "vault_warehouse = DataVaultWarehouse(engine_quant,\n",
    "                                     company_data=None,\n",
    "                                     benchmark_projected_production=None,\n",
    "                                     benchmarks_projected_ei=None,\n",
    "                                     ingest_schema = 'demo_dv',\n",
    "                                     itr_prefix=itr_prefix,\n",
    "                                     column_config=None)\n",
    "\n",
    "vault_warehouse.quant_init(engine_quant, company_data=vault_company_data, ingest_schema='demo_dv', itr_prefix=itr_prefix)"
   ]
  },
  {
   "cell_type": "code",
   "execution_count": 5,
   "id": "be2d45e2-4a19-4e6a-932d-bc7ea8e0eea0",
   "metadata": {},
   "outputs": [],
   "source": [
    "ureg.setup_matplotlib(True)\n",
    "%matplotlib inline"
   ]
  },
  {
   "cell_type": "markdown",
   "id": "236c94f8-1709-4d7a-9beb-85419e65be5c",
   "metadata": {},
   "source": [
    "Show that we *can* access both cumulative emissions (input) and temperature scores (output)"
   ]
  },
  {
   "cell_type": "code",
   "execution_count": 6,
   "id": "f093cafe-70a2-4b63-b33a-bb46fe6bb741",
   "metadata": {},
   "outputs": [
    {
     "name": "stderr",
     "output_type": "stream",
     "text": [
      "/opt/app-root/lib64/python3.8/site-packages/pandas/io/sql.py:1770: SAWarning: index key 'partition' was not located in columns for table 'itr_temperature_scores'\n",
      "  tbl = Table(\n",
      "/opt/app-root/lib64/python3.8/site-packages/pandas/io/sql.py:1770: SAWarning: index key 'record_count' was not located in columns for table 'itr_temperature_scores'\n",
      "  tbl = Table(\n",
      "/opt/app-root/lib64/python3.8/site-packages/pandas/io/sql.py:1770: SAWarning: index key 'file_count' was not located in columns for table 'itr_temperature_scores'\n",
      "  tbl = Table(\n",
      "/opt/app-root/lib64/python3.8/site-packages/pandas/io/sql.py:1770: SAWarning: index key 'total_size' was not located in columns for table 'itr_temperature_scores'\n",
      "  tbl = Table(\n",
      "/opt/app-root/lib64/python3.8/site-packages/pandas/io/sql.py:1770: SAWarning: index key 'data' was not located in columns for table 'itr_temperature_scores'\n",
      "  tbl = Table(\n"
     ]
    }
   ],
   "source": [
    "sql_temp_score_df = pd.read_sql_table(f\"{itr_prefix}temperature_scores\", engine_quant)"
   ]
  },
  {
   "cell_type": "code",
   "execution_count": 7,
   "id": "a32e4f93-93d1-4a08-8702-595dd42b01f1",
   "metadata": {},
   "outputs": [
    {
     "data": {
      "text/html": [
       "<div>\n",
       "<style scoped>\n",
       "    .dataframe tbody tr th:only-of-type {\n",
       "        vertical-align: middle;\n",
       "    }\n",
       "\n",
       "    .dataframe tbody tr th {\n",
       "        vertical-align: top;\n",
       "    }\n",
       "\n",
       "    .dataframe thead th {\n",
       "        text-align: right;\n",
       "    }\n",
       "</style>\n",
       "<table border=\"1\" class=\"dataframe\">\n",
       "  <thead>\n",
       "    <tr style=\"text-align: right;\">\n",
       "      <th></th>\n",
       "      <th>company_name</th>\n",
       "      <th>company_id</th>\n",
       "      <th>source</th>\n",
       "      <th>scope</th>\n",
       "      <th>benchmark</th>\n",
       "      <th>trajectory_temperature_score</th>\n",
       "      <th>target_temperature_score</th>\n",
       "    </tr>\n",
       "  </thead>\n",
       "  <tbody>\n",
       "    <tr>\n",
       "      <th>0</th>\n",
       "      <td>Xcel Energy, Inc.</td>\n",
       "      <td>US98389B1008</td>\n",
       "      <td>demo_dv</td>\n",
       "      <td>S1S2S3</td>\n",
       "      <td>benchmark_1</td>\n",
       "      <td>1.8805356604763745</td>\n",
       "      <td>1.6738663035893826</td>\n",
       "    </tr>\n",
       "    <tr>\n",
       "      <th>1</th>\n",
       "      <td>Portland General Electric Co.</td>\n",
       "      <td>US7365088472</td>\n",
       "      <td>demo_dv</td>\n",
       "      <td>S1S2</td>\n",
       "      <td>benchmark_1</td>\n",
       "      <td>2.068699137854758</td>\n",
       "      <td>1.4527723467575893</td>\n",
       "    </tr>\n",
       "    <tr>\n",
       "      <th>2</th>\n",
       "      <td>Consolidated Edison, Inc.</td>\n",
       "      <td>US2091151041</td>\n",
       "      <td>demo_dv</td>\n",
       "      <td>S1S2S3</td>\n",
       "      <td>benchmark_1</td>\n",
       "      <td>2.1541352383578416</td>\n",
       "      <td>1.591786167611431</td>\n",
       "    </tr>\n",
       "    <tr>\n",
       "      <th>3</th>\n",
       "      <td>FirstEnergy Corp.</td>\n",
       "      <td>US3379321074</td>\n",
       "      <td>demo_dv</td>\n",
       "      <td>S1S2S3</td>\n",
       "      <td>benchmark_1</td>\n",
       "      <td>1.947669815284733</td>\n",
       "      <td>1.8780480685136953</td>\n",
       "    </tr>\n",
       "    <tr>\n",
       "      <th>4</th>\n",
       "      <td>UGI Corp.</td>\n",
       "      <td>US9026811052</td>\n",
       "      <td>demo_dv</td>\n",
       "      <td>S1S2S3</td>\n",
       "      <td>benchmark_1</td>\n",
       "      <td>2.2624719180042225</td>\n",
       "      <td>2.2624719180042225</td>\n",
       "    </tr>\n",
       "    <tr>\n",
       "      <th>...</th>\n",
       "      <td>...</td>\n",
       "      <td>...</td>\n",
       "      <td>...</td>\n",
       "      <td>...</td>\n",
       "      <td>...</td>\n",
       "      <td>...</td>\n",
       "      <td>...</td>\n",
       "    </tr>\n",
       "    <tr>\n",
       "      <th>93</th>\n",
       "      <td>GERDAU S.A.</td>\n",
       "      <td>US3737371050</td>\n",
       "      <td>demo_dv</td>\n",
       "      <td>S1S2</td>\n",
       "      <td>benchmark_1</td>\n",
       "      <td>1.950247739616082</td>\n",
       "      <td>1.6233207038270345</td>\n",
       "    </tr>\n",
       "    <tr>\n",
       "      <th>94</th>\n",
       "      <td>UNITED STATES STEEL CORP</td>\n",
       "      <td>US9129091081</td>\n",
       "      <td>demo_dv</td>\n",
       "      <td>S1S2</td>\n",
       "      <td>benchmark_1</td>\n",
       "      <td>3.645970534034862</td>\n",
       "      <td>2.28301145174491</td>\n",
       "    </tr>\n",
       "    <tr>\n",
       "      <th>95</th>\n",
       "      <td>Evergy, Inc.</td>\n",
       "      <td>US30034W1062</td>\n",
       "      <td>demo_dv</td>\n",
       "      <td>S1S2</td>\n",
       "      <td>benchmark_1</td>\n",
       "      <td>1.8655363581389497</td>\n",
       "      <td>1.7264737515264377</td>\n",
       "    </tr>\n",
       "    <tr>\n",
       "      <th>96</th>\n",
       "      <td>Duke Energy Corp.</td>\n",
       "      <td>US26441C2044</td>\n",
       "      <td>demo_dv</td>\n",
       "      <td>S1S2</td>\n",
       "      <td>benchmark_1</td>\n",
       "      <td>1.5512015017115328</td>\n",
       "      <td>1.5983310705829716</td>\n",
       "    </tr>\n",
       "    <tr>\n",
       "      <th>97</th>\n",
       "      <td>Exelon Corp.</td>\n",
       "      <td>US30161N1019</td>\n",
       "      <td>demo_dv</td>\n",
       "      <td>S1S2</td>\n",
       "      <td>benchmark_1</td>\n",
       "      <td>1.262227074235808</td>\n",
       "      <td>1.262227074235808</td>\n",
       "    </tr>\n",
       "  </tbody>\n",
       "</table>\n",
       "<p>98 rows × 7 columns</p>\n",
       "</div>"
      ],
      "text/plain": [
       "                     company_name    company_id   source   scope    benchmark  \\\n",
       "0               Xcel Energy, Inc.  US98389B1008  demo_dv  S1S2S3  benchmark_1   \n",
       "1   Portland General Electric Co.  US7365088472  demo_dv    S1S2  benchmark_1   \n",
       "2       Consolidated Edison, Inc.  US2091151041  demo_dv  S1S2S3  benchmark_1   \n",
       "3               FirstEnergy Corp.  US3379321074  demo_dv  S1S2S3  benchmark_1   \n",
       "4                       UGI Corp.  US9026811052  demo_dv  S1S2S3  benchmark_1   \n",
       "..                            ...           ...      ...     ...          ...   \n",
       "93                    GERDAU S.A.  US3737371050  demo_dv    S1S2  benchmark_1   \n",
       "94       UNITED STATES STEEL CORP  US9129091081  demo_dv    S1S2  benchmark_1   \n",
       "95                   Evergy, Inc.  US30034W1062  demo_dv    S1S2  benchmark_1   \n",
       "96              Duke Energy Corp.  US26441C2044  demo_dv    S1S2  benchmark_1   \n",
       "97                   Exelon Corp.  US30161N1019  demo_dv    S1S2  benchmark_1   \n",
       "\n",
       "   trajectory_temperature_score target_temperature_score  \n",
       "0            1.8805356604763745       1.6738663035893826  \n",
       "1             2.068699137854758       1.4527723467575893  \n",
       "2            2.1541352383578416        1.591786167611431  \n",
       "3             1.947669815284733       1.8780480685136953  \n",
       "4            2.2624719180042225       2.2624719180042225  \n",
       "..                          ...                      ...  \n",
       "93            1.950247739616082       1.6233207038270345  \n",
       "94            3.645970534034862         2.28301145174491  \n",
       "95           1.8655363581389497       1.7264737515264377  \n",
       "96           1.5512015017115328       1.5983310705829716  \n",
       "97            1.262227074235808        1.262227074235808  \n",
       "\n",
       "[98 rows x 7 columns]"
      ]
     },
     "execution_count": 7,
     "metadata": {},
     "output_type": "execute_result"
    }
   ],
   "source": [
    "temp_score_df = requantify_df(sql_temp_score_df, typemap={'trajectory_temperature_score':'pint[delta_degC]', 'target_temperature_score':'pint[delta_degC]'})\n",
    "temp_score_df = temp_score_df[~temp_score_df.company_id.isin(['US6362744095+Gas Utilities', 'US0236081024+Gas Utilities', 'CA87807B1076+Gas', 'CA87807B1076+Oil', 'NO0010657505'])]\n",
    "temp_score_df"
   ]
  },
  {
   "cell_type": "code",
   "execution_count": 8,
   "id": "c1270d41-5a03-43dd-b90b-f305299dbe99",
   "metadata": {},
   "outputs": [],
   "source": [
    "plottable_df = temp_score_df[['company_name', 'trajectory_temperature_score', 'target_temperature_score']].sort_values('company_name').set_index('company_name')\n",
    "plottable_df = pd.concat([plottable_df, (plottable_df['trajectory_temperature_score'] + plottable_df['target_temperature_score'])/2.0], axis=1)\n",
    "plottable_df.columns = ['trajectory_temperature_score', 'target_temperature_score', 'average_score']\n",
    "plottable_df = plottable_df.T"
   ]
  },
  {
   "cell_type": "code",
   "execution_count": 9,
   "id": "5f559b7f-344f-4f6f-93bf-b24772810014",
   "metadata": {},
   "outputs": [
    {
     "data": {
      "text/html": [
       "<div>\n",
       "<style scoped>\n",
       "    .dataframe tbody tr th:only-of-type {\n",
       "        vertical-align: middle;\n",
       "    }\n",
       "\n",
       "    .dataframe tbody tr th {\n",
       "        vertical-align: top;\n",
       "    }\n",
       "\n",
       "    .dataframe thead th {\n",
       "        text-align: right;\n",
       "    }\n",
       "</style>\n",
       "<table border=\"1\" class=\"dataframe\">\n",
       "  <thead>\n",
       "    <tr style=\"text-align: right;\">\n",
       "      <th>company_name</th>\n",
       "      <th>AES Corp.</th>\n",
       "      <th>AES Corp.</th>\n",
       "      <th>Algonquin Power &amp; Utilities Corp.</th>\n",
       "      <th>Algonquin Power &amp; Utilities Corp.</th>\n",
       "      <th>Alliant Energy</th>\n",
       "    </tr>\n",
       "  </thead>\n",
       "  <tbody>\n",
       "    <tr>\n",
       "      <th>trajectory_temperature_score</th>\n",
       "      <td>1.909958</td>\n",
       "      <td>2.373401</td>\n",
       "      <td>2.226503</td>\n",
       "      <td>2.332847</td>\n",
       "      <td>1.759320</td>\n",
       "    </tr>\n",
       "    <tr>\n",
       "      <th>target_temperature_score</th>\n",
       "      <td>1.715670</td>\n",
       "      <td>1.866367</td>\n",
       "      <td>2.258762</td>\n",
       "      <td>2.640349</td>\n",
       "      <td>1.897299</td>\n",
       "    </tr>\n",
       "    <tr>\n",
       "      <th>average_score</th>\n",
       "      <td>1.812814</td>\n",
       "      <td>2.119884</td>\n",
       "      <td>2.242632</td>\n",
       "      <td>2.486598</td>\n",
       "      <td>1.828309</td>\n",
       "    </tr>\n",
       "  </tbody>\n",
       "</table>\n",
       "</div>"
      ],
      "text/plain": [
       "company_name                  AES Corp.  AES Corp.  \\\n",
       "trajectory_temperature_score   1.909958   2.373401   \n",
       "target_temperature_score       1.715670   1.866367   \n",
       "average_score                  1.812814   2.119884   \n",
       "\n",
       "company_name                  Algonquin Power & Utilities Corp.  \\\n",
       "trajectory_temperature_score                           2.226503   \n",
       "target_temperature_score                               2.258762   \n",
       "average_score                                          2.242632   \n",
       "\n",
       "company_name                  Algonquin Power & Utilities Corp.  \\\n",
       "trajectory_temperature_score                           2.332847   \n",
       "target_temperature_score                               2.640349   \n",
       "average_score                                          2.486598   \n",
       "\n",
       "company_name                  Alliant Energy  \n",
       "trajectory_temperature_score        1.759320  \n",
       "target_temperature_score            1.897299  \n",
       "average_score                       1.828309  "
      ]
     },
     "execution_count": 9,
     "metadata": {},
     "output_type": "execute_result"
    }
   ],
   "source": [
    "plottable_df.applymap(lambda x: x.m).dropna(axis=1, how='all').iloc[:, 0:5]"
   ]
  },
  {
   "cell_type": "code",
   "execution_count": 10,
   "id": "9ee65e40-cda2-4a9b-ac80-b0e96c8c152e",
   "metadata": {},
   "outputs": [
    {
     "data": {
      "text/plain": [
       "<AxesSubplot: >"
      ]
     },
     "execution_count": 10,
     "metadata": {},
     "output_type": "execute_result"
    },
    {
     "data": {
      "image/png": "[encoded data removed]",
      "text/plain": [
       "<Figure size 1728x720 with 1 Axes>"
      ]
     },
     "metadata": {
      "needs_background": "light"
     },
     "output_type": "display_data"
    }
   ],
   "source": [
    "# Must plot the first few columns, but then plot 1/3rd of the companies so as not to over-clutter the graph\n",
    "plottable_df.applymap(lambda x: x.m).dropna(axis=1, how='all').iloc[:, 0:35].boxplot(figsize=(24,10), rot=45)"
   ]
  },
  {
   "cell_type": "markdown",
   "id": "65795474-1de6-4f40-9086-f7d948ae6c66",
   "metadata": {},
   "source": [
    "### Step 5: Show per-company temperature score and weighted portfolio alignment score\n",
    "\n",
    "Portfolio weighting scores (which ultimately influence portfolio alignment score) include:\n",
    "* WATS (size of portfolio company positions used as weights)\n",
    "* TETS (size of total emissions of portfolio companies used as weights)\n",
    "* Financial fundamental weights:\n",
    "    * Market Cap\n",
    "    * Enterprise Value\n",
    "    * Assets\n",
    "    * Revenues\n",
    "\n",
    "We can pass a list of company IDs to the Data Vault to get back a sum without exposing granular data"
   ]
  },
  {
   "cell_type": "markdown",
   "id": "df114d27-a6ab-46d9-a942-0e8200c4fcd7",
   "metadata": {},
   "source": [
    "Show that we *can also* access both cumulative emissions (input) and temperature scores (output)"
   ]
  },
  {
   "cell_type": "code",
   "execution_count": 11,
   "id": "76d2ad90-ce27-484f-8de9-359153d32979",
   "metadata": {},
   "outputs": [
    {
     "data": {
      "text/html": [
       "<div>\n",
       "<style scoped>\n",
       "    .dataframe tbody tr th:only-of-type {\n",
       "        vertical-align: middle;\n",
       "    }\n",
       "\n",
       "    .dataframe tbody tr th {\n",
       "        vertical-align: top;\n",
       "    }\n",
       "\n",
       "    .dataframe thead th {\n",
       "        text-align: right;\n",
       "    }\n",
       "</style>\n",
       "<table border=\"1\" class=\"dataframe\">\n",
       "  <thead>\n",
       "    <tr style=\"text-align: right;\">\n",
       "      <th></th>\n",
       "      <th>company_name</th>\n",
       "      <th>company_lei</th>\n",
       "      <th>investment_value</th>\n",
       "    </tr>\n",
       "    <tr>\n",
       "      <th>company_id</th>\n",
       "      <th></th>\n",
       "      <th></th>\n",
       "      <th></th>\n",
       "    </tr>\n",
       "  </thead>\n",
       "  <tbody>\n",
       "    <tr>\n",
       "      <th>US00130H1059</th>\n",
       "      <td>AES Corp.</td>\n",
       "      <td>2NUNNB7D43COUIRE5295</td>\n",
       "      <td>4351252</td>\n",
       "    </tr>\n",
       "    <tr>\n",
       "      <th>US0158577090</th>\n",
       "      <td>Algonquin Power &amp; Utilities Corp.</td>\n",
       "      <td>549300K5VIUTJXQL7X75</td>\n",
       "      <td>2228185</td>\n",
       "    </tr>\n",
       "    <tr>\n",
       "      <th>US0185223007</th>\n",
       "      <td>ALLETE, Inc.</td>\n",
       "      <td>549300NNLSIMY6Z8OT86</td>\n",
       "      <td>3829481</td>\n",
       "    </tr>\n",
       "    <tr>\n",
       "      <th>US0188021085</th>\n",
       "      <td>Alliant Energy</td>\n",
       "      <td>5493009ML300G373MZ12</td>\n",
       "      <td>3829481</td>\n",
       "    </tr>\n",
       "    <tr>\n",
       "      <th>US0236081024</th>\n",
       "      <td>Ameren Corp.</td>\n",
       "      <td>XRZQ5S7HYJFPHJ78L959</td>\n",
       "      <td>15917812</td>\n",
       "    </tr>\n",
       "    <tr>\n",
       "      <th>...</th>\n",
       "      <td>...</td>\n",
       "      <td>...</td>\n",
       "      <td>...</td>\n",
       "    </tr>\n",
       "    <tr>\n",
       "      <th>US8873991033</th>\n",
       "      <td>TIMKENSTEEL CORP</td>\n",
       "      <td>549300QZTZWHDE9HJL14</td>\n",
       "      <td>10000000</td>\n",
       "    </tr>\n",
       "    <tr>\n",
       "      <th>US88830M1027</th>\n",
       "      <td>TITAN INTERNATIONAL INC</td>\n",
       "      <td>254900CXRGBE7C4B5A06</td>\n",
       "      <td>10000000</td>\n",
       "    </tr>\n",
       "    <tr>\n",
       "      <th>US9129091081</th>\n",
       "      <td>UNITED STATES STEEL CORP</td>\n",
       "      <td>JNLUVFYJT1OZSIQ24U47</td>\n",
       "      <td>10000000</td>\n",
       "    </tr>\n",
       "    <tr>\n",
       "      <th>US9138371003</th>\n",
       "      <td>UNIVERSAL STAINLESS &amp; ALLOY PRODUCTS INC</td>\n",
       "      <td>5493001OEIZDUGXZDE09</td>\n",
       "      <td>10000000</td>\n",
       "    </tr>\n",
       "    <tr>\n",
       "      <th>US9818111026</th>\n",
       "      <td>WORTHINGTON INDUSTRIES INC</td>\n",
       "      <td>1WRCIANKYOIK6KYE5E82</td>\n",
       "      <td>10000000</td>\n",
       "    </tr>\n",
       "  </tbody>\n",
       "</table>\n",
       "<p>61 rows × 3 columns</p>\n",
       "</div>"
      ],
      "text/plain": [
       "                                          company_name           company_lei  \\\n",
       "company_id                                                                     \n",
       "US00130H1059                                 AES Corp.  2NUNNB7D43COUIRE5295   \n",
       "US0158577090         Algonquin Power & Utilities Corp.  549300K5VIUTJXQL7X75   \n",
       "US0185223007                              ALLETE, Inc.  549300NNLSIMY6Z8OT86   \n",
       "US0188021085                            Alliant Energy  5493009ML300G373MZ12   \n",
       "US0236081024                              Ameren Corp.  XRZQ5S7HYJFPHJ78L959   \n",
       "...                                                ...                   ...   \n",
       "US8873991033                          TIMKENSTEEL CORP  549300QZTZWHDE9HJL14   \n",
       "US88830M1027                   TITAN INTERNATIONAL INC  254900CXRGBE7C4B5A06   \n",
       "US9129091081                  UNITED STATES STEEL CORP  JNLUVFYJT1OZSIQ24U47   \n",
       "US9138371003  UNIVERSAL STAINLESS & ALLOY PRODUCTS INC  5493001OEIZDUGXZDE09   \n",
       "US9818111026                WORTHINGTON INDUSTRIES INC  1WRCIANKYOIK6KYE5E82   \n",
       "\n",
       "              investment_value  \n",
       "company_id                      \n",
       "US00130H1059           4351252  \n",
       "US0158577090           2228185  \n",
       "US0185223007           3829481  \n",
       "US0188021085           3829481  \n",
       "US0236081024          15917812  \n",
       "...                        ...  \n",
       "US8873991033          10000000  \n",
       "US88830M1027          10000000  \n",
       "US9129091081          10000000  \n",
       "US9138371003          10000000  \n",
       "US9818111026          10000000  \n",
       "\n",
       "[61 rows x 3 columns]"
      ]
     },
     "execution_count": 11,
     "metadata": {},
     "output_type": "execute_result"
    }
   ],
   "source": [
    "portfolio_df = pd.read_csv(\"data/mdt-20220116-portfolio.csv\", encoding=\"iso-8859-1\", sep=';', index_col='company_id')\n",
    "portfolio_df"
   ]
  },
  {
   "cell_type": "markdown",
   "id": "e2d9942b-ec81-4eab-9cca-99e92905e24f",
   "metadata": {},
   "source": [
    "### Calculate portfolio alignment temperature score based on WATS\n",
    "\n",
    "We can do this with information exclusive to the user space (and the probability-adjusted temperature scores)\n",
    "\n",
    "Note that companies with no production information (such as TITAL INTERNATIONAL INC and UNIVERSAL STAINLESS & ALLOY PRODUCTS INC will show NaN (Not a Number) as a score."
   ]
  },
  {
   "cell_type": "code",
   "execution_count": 12,
   "id": "3840f2c6-a938-43b0-b24e-37f0b284d2c6",
   "metadata": {},
   "outputs": [],
   "source": [
    "# PA_SCORE means \"Probability-Adjusted\" Temperature Score\n",
    "portfolio_df['pa_score'] = vault_warehouse.get_pa_temp_scores(probability=0.5, company_ids=portfolio_df.index.values).astype('pint[delta_degC]')"
   ]
  },
  {
   "cell_type": "code",
   "execution_count": 13,
   "id": "8031e3a0-3d22-4f16-8a9a-e85f855f1b02",
   "metadata": {},
   "outputs": [
    {
     "data": {
      "text/html": [
       "<div>\n",
       "<style scoped>\n",
       "    .dataframe tbody tr th:only-of-type {\n",
       "        vertical-align: middle;\n",
       "    }\n",
       "\n",
       "    .dataframe tbody tr th {\n",
       "        vertical-align: top;\n",
       "    }\n",
       "\n",
       "    .dataframe thead th {\n",
       "        text-align: right;\n",
       "    }\n",
       "</style>\n",
       "<table border=\"1\" class=\"dataframe\">\n",
       "  <thead>\n",
       "    <tr style=\"text-align: right;\">\n",
       "      <th></th>\n",
       "      <th>company_name</th>\n",
       "      <th>company_lei</th>\n",
       "      <th>investment_value</th>\n",
       "      <th>pa_score</th>\n",
       "    </tr>\n",
       "    <tr>\n",
       "      <th>company_id</th>\n",
       "      <th></th>\n",
       "      <th></th>\n",
       "      <th></th>\n",
       "      <th></th>\n",
       "    </tr>\n",
       "  </thead>\n",
       "  <tbody>\n",
       "  </tbody>\n",
       "</table>\n",
       "</div>"
      ],
      "text/plain": [
       "Empty DataFrame\n",
       "Columns: [company_name, company_lei, investment_value, pa_score]\n",
       "Index: []"
      ]
     },
     "execution_count": 13,
     "metadata": {},
     "output_type": "execute_result"
    }
   ],
   "source": [
    "# portfolio_df[portfolio_df.company_name=='POSCO']\n",
    "portfolio_df.dropna(inplace=True)\n",
    "portfolio_df.sort_values(by='company_name')"
   ]
  },
  {
   "cell_type": "code",
   "execution_count": 14,
   "id": "0e9f1e29-ccb8-4b59-a1ba-95fdf792bf76",
   "metadata": {},
   "outputs": [
    {
     "data": {
      "text/plain": [
       "0"
      ]
     },
     "execution_count": 14,
     "metadata": {},
     "output_type": "execute_result"
    }
   ],
   "source": [
    "weight_for_WATS = portfolio_df['investment_value'].sum()\n",
    "weight_for_WATS"
   ]
  },
  {
   "cell_type": "code",
   "execution_count": 15,
   "id": "f3193208-3029-40d4-a7a2-e820a32eea56",
   "metadata": {},
   "outputs": [
    {
     "data": {
      "text/html": [
       "<div>\n",
       "<style scoped>\n",
       "    .dataframe tbody tr th:only-of-type {\n",
       "        vertical-align: middle;\n",
       "    }\n",
       "\n",
       "    .dataframe tbody tr th {\n",
       "        vertical-align: top;\n",
       "    }\n",
       "\n",
       "    .dataframe thead th {\n",
       "        text-align: right;\n",
       "    }\n",
       "</style>\n",
       "<table border=\"1\" class=\"dataframe\">\n",
       "  <thead>\n",
       "    <tr style=\"text-align: right;\">\n",
       "      <th></th>\n",
       "      <th>company_name</th>\n",
       "      <th>company_lei</th>\n",
       "      <th>investment_value</th>\n",
       "      <th>pa_score</th>\n",
       "      <th>WATS_weight</th>\n",
       "    </tr>\n",
       "    <tr>\n",
       "      <th>company_id</th>\n",
       "      <th></th>\n",
       "      <th></th>\n",
       "      <th></th>\n",
       "      <th></th>\n",
       "      <th></th>\n",
       "    </tr>\n",
       "  </thead>\n",
       "  <tbody>\n",
       "  </tbody>\n",
       "</table>\n",
       "</div>"
      ],
      "text/plain": [
       "Empty DataFrame\n",
       "Columns: [company_name, company_lei, investment_value, pa_score, WATS_weight]\n",
       "Index: []"
      ]
     },
     "execution_count": 15,
     "metadata": {},
     "output_type": "execute_result"
    }
   ],
   "source": [
    "portfolio_df['WATS_weight'] = portfolio_df['pa_score'] * (portfolio_df['investment_value'] / weight_for_WATS)\n",
    "portfolio_df.head()"
   ]
  },
  {
   "cell_type": "code",
   "execution_count": 16,
   "id": "24fdeb51-94f1-40a4-ace9-5fdce4f5de8f",
   "metadata": {},
   "outputs": [
    {
     "name": "stdout",
     "output_type": "stream",
     "text": [
      "Portfolio temperature score based on WATS = 0.0 delta_degree_Celsius\n"
     ]
    }
   ],
   "source": [
    "print(f\"Portfolio temperature score based on WATS = {portfolio_df['WATS_weight'].sum()}\")"
   ]
  },
  {
   "cell_type": "markdown",
   "id": "95036586-82cc-4230-8946-eb3f7a07d283",
   "metadata": {},
   "source": [
    "### Calculate portfolio alignment temperature score based on TETS\n",
    "\n",
    "We need to carefully meld portfolio data with corp fundamental data (in this case, emissions)"
   ]
  },
  {
   "cell_type": "code",
   "execution_count": 17,
   "id": "fddd23f0-7ca4-4ea8-8a54-ea71fee0f40b",
   "metadata": {},
   "outputs": [
    {
     "data": {
      "text/html": [
       "<div>\n",
       "<style scoped>\n",
       "    .dataframe tbody tr th:only-of-type {\n",
       "        vertical-align: middle;\n",
       "    }\n",
       "\n",
       "    .dataframe tbody tr th {\n",
       "        vertical-align: top;\n",
       "    }\n",
       "\n",
       "    .dataframe thead th {\n",
       "        text-align: right;\n",
       "    }\n",
       "</style>\n",
       "<table border=\"1\" class=\"dataframe\">\n",
       "  <thead>\n",
       "    <tr style=\"text-align: right;\">\n",
       "      <th></th>\n",
       "      <th>company_name</th>\n",
       "      <th>company_lei</th>\n",
       "      <th>investment_value</th>\n",
       "      <th>pa_score</th>\n",
       "      <th>WATS_weight</th>\n",
       "      <th>TETS_weight</th>\n",
       "    </tr>\n",
       "    <tr>\n",
       "      <th>company_id</th>\n",
       "      <th></th>\n",
       "      <th></th>\n",
       "      <th></th>\n",
       "      <th></th>\n",
       "      <th></th>\n",
       "      <th></th>\n",
       "    </tr>\n",
       "  </thead>\n",
       "  <tbody>\n",
       "  </tbody>\n",
       "</table>\n",
       "</div>"
      ],
      "text/plain": [
       "Empty DataFrame\n",
       "Columns: [company_name, company_lei, investment_value, pa_score, WATS_weight, TETS_weight]\n",
       "Index: []"
      ]
     },
     "execution_count": 17,
     "metadata": {},
     "output_type": "execute_result"
    }
   ],
   "source": [
    "portfolio_df['TETS_weight'] = vault_company_data.compute_portfolio_weights(portfolio_df['pa_score'], 2019, 'emissions', EScope.S1S2).astype('pint[delta_degC]')\n",
    "portfolio_df.head()"
   ]
  },
  {
   "cell_type": "code",
   "execution_count": 18,
   "id": "68f22808-4ec2-4167-95ee-5b50f550dc59",
   "metadata": {},
   "outputs": [
    {
     "name": "stdout",
     "output_type": "stream",
     "text": [
      "Portfolio temperature score based on TETS = 0.0 delta_degree_Celsius\n"
     ]
    }
   ],
   "source": [
    "print(f\"Portfolio temperature score based on TETS = {portfolio_df['TETS_weight'].sum()}\")"
   ]
  },
  {
   "cell_type": "markdown",
   "id": "74453d3b-2288-4dfd-bb68-978c0cdf5f67",
   "metadata": {},
   "source": [
    "### Calculate portfolio alignment temperature score based on MOTS, EOTS, ECOTS, AOTS, and ROTS\n",
    "\n",
    "* MOTS = market cap weights\n",
    "* EOTS = enterprise value weights\n",
    "* ECOTS = EVIC weights\n",
    "* AOTS = asset weights\n",
    "* ROTS = revenue weights"
   ]
  },
  {
   "cell_type": "code",
   "execution_count": 19,
   "id": "9c2d630c-10dd-486f-b6c1-4d579e88a597",
   "metadata": {},
   "outputs": [
    {
     "data": {
      "text/plain": [
       "company_name                            object\n",
       "company_lei                             object\n",
       "investment_value                         int64\n",
       "pa_score            pint[delta_degree_Celsius]\n",
       "WATS_weight         pint[delta_degree_Celsius]\n",
       "TETS_weight         pint[delta_degree_Celsius]\n",
       "dtype: object"
      ]
     },
     "execution_count": 19,
     "metadata": {},
     "output_type": "execute_result"
    }
   ],
   "source": [
    "portfolio_df.dtypes"
   ]
  },
  {
   "cell_type": "code",
   "execution_count": 20,
   "id": "0df8c5fc-2939-4ac1-9448-499803583eb1",
   "metadata": {},
   "outputs": [
    {
     "name": "stdout",
     "output_type": "stream",
     "text": [
      "Portfolio temperature score based on MOTS = 0.0 delta_degree_Celsius\n",
      "Portfolio temperature score based on EOTS = 0.0 delta_degree_Celsius\n",
      "Portfolio temperature score based on ECOTS = 0.0 delta_degree_Celsius\n",
      "Portfolio temperature score based on AOTS = 0.0 delta_degree_Celsius\n",
      "Portfolio temperature score based on ROTS = 0.0 delta_degree_Celsius\n"
     ]
    },
    {
     "data": {
      "text/html": [
       "<div>\n",
       "<style scoped>\n",
       "    .dataframe tbody tr th:only-of-type {\n",
       "        vertical-align: middle;\n",
       "    }\n",
       "\n",
       "    .dataframe tbody tr th {\n",
       "        vertical-align: top;\n",
       "    }\n",
       "\n",
       "    .dataframe thead th {\n",
       "        text-align: right;\n",
       "    }\n",
       "</style>\n",
       "<table border=\"1\" class=\"dataframe\">\n",
       "  <thead>\n",
       "    <tr style=\"text-align: right;\">\n",
       "      <th></th>\n",
       "      <th>company_name</th>\n",
       "      <th>company_lei</th>\n",
       "      <th>investment_value</th>\n",
       "      <th>pa_score</th>\n",
       "      <th>WATS_weight</th>\n",
       "      <th>TETS_weight</th>\n",
       "      <th>MOTS_weight</th>\n",
       "      <th>EOTS_weight</th>\n",
       "      <th>ECOTS_weight</th>\n",
       "      <th>AOTS_weight</th>\n",
       "      <th>ROTS_weight</th>\n",
       "    </tr>\n",
       "    <tr>\n",
       "      <th>company_id</th>\n",
       "      <th></th>\n",
       "      <th></th>\n",
       "      <th></th>\n",
       "      <th></th>\n",
       "      <th></th>\n",
       "      <th></th>\n",
       "      <th></th>\n",
       "      <th></th>\n",
       "      <th></th>\n",
       "      <th></th>\n",
       "      <th></th>\n",
       "    </tr>\n",
       "  </thead>\n",
       "  <tbody>\n",
       "  </tbody>\n",
       "</table>\n",
       "</div>"
      ],
      "text/plain": [
       "Empty DataFrame\n",
       "Columns: [company_name, company_lei, investment_value, pa_score, WATS_weight, TETS_weight, MOTS_weight, EOTS_weight, ECOTS_weight, AOTS_weight, ROTS_weight]\n",
       "Index: []"
      ]
     },
     "execution_count": 20,
     "metadata": {},
     "output_type": "execute_result"
    }
   ],
   "source": [
    "weighting_dict = {\n",
    "    'MOTS': 'company_market_cap',\n",
    "    'EOTS': 'company_ev',\n",
    "    'ECOTS': 'company_evic',\n",
    "    'AOTS': 'company_total_assets',\n",
    "    'ROTS': 'company_revenue',\n",
    "}\n",
    "\n",
    "for k, v in weighting_dict.items():\n",
    "    weight_column = f\"{k}_weight\"\n",
    "    portfolio_df[weight_column] = vault_company_data.compute_portfolio_weights(portfolio_df['pa_score'], 2019, v, EScope.S1S2)\n",
    "    print(f\"Portfolio temperature score based on {k} = {portfolio_df[weight_column].sum()}\")\n",
    "\n",
    "portfolio_df"
   ]
  },
  {
   "cell_type": "markdown",
   "id": "02416ac3-892e-4de7-b244-fc8311993ee9",
   "metadata": {},
   "source": [
    "### Companies for which we lack production data (and thus cannot chart)"
   ]
  },
  {
   "cell_type": "code",
   "execution_count": 21,
   "id": "d1e39a38-9d3f-4ff7-aa46-965f6cbf4a76",
   "metadata": {},
   "outputs": [
    {
     "data": {
      "text/html": [
       "<div>\n",
       "<style scoped>\n",
       "    .dataframe tbody tr th:only-of-type {\n",
       "        vertical-align: middle;\n",
       "    }\n",
       "\n",
       "    .dataframe tbody tr th {\n",
       "        vertical-align: top;\n",
       "    }\n",
       "\n",
       "    .dataframe thead th {\n",
       "        text-align: right;\n",
       "    }\n",
       "</style>\n",
       "<table border=\"1\" class=\"dataframe\">\n",
       "  <thead>\n",
       "    <tr style=\"text-align: right;\">\n",
       "      <th></th>\n",
       "      <th>company_name</th>\n",
       "      <th>company_lei</th>\n",
       "      <th>investment_value</th>\n",
       "      <th>pa_score</th>\n",
       "      <th>WATS_weight</th>\n",
       "      <th>TETS_weight</th>\n",
       "      <th>MOTS_weight</th>\n",
       "      <th>EOTS_weight</th>\n",
       "      <th>ECOTS_weight</th>\n",
       "      <th>AOTS_weight</th>\n",
       "      <th>ROTS_weight</th>\n",
       "    </tr>\n",
       "    <tr>\n",
       "      <th>company_id</th>\n",
       "      <th></th>\n",
       "      <th></th>\n",
       "      <th></th>\n",
       "      <th></th>\n",
       "      <th></th>\n",
       "      <th></th>\n",
       "      <th></th>\n",
       "      <th></th>\n",
       "      <th></th>\n",
       "      <th></th>\n",
       "      <th></th>\n",
       "    </tr>\n",
       "  </thead>\n",
       "  <tbody>\n",
       "  </tbody>\n",
       "</table>\n",
       "</div>"
      ],
      "text/plain": [
       "Empty DataFrame\n",
       "Columns: [company_name, company_lei, investment_value, pa_score, WATS_weight, TETS_weight, MOTS_weight, EOTS_weight, ECOTS_weight, AOTS_weight, ROTS_weight]\n",
       "Index: []"
      ]
     },
     "execution_count": 21,
     "metadata": {},
     "output_type": "execute_result"
    }
   ],
   "source": [
    "portfolio_df[portfolio_df.pa_score.isnull()]"
   ]
  },
  {
   "cell_type": "code",
   "execution_count": 22,
   "id": "027bf69a-9c4a-48bc-979c-662a7409263d",
   "metadata": {},
   "outputs": [
    {
     "data": {
      "text/plain": [
       "[('AES Corp.', '2NUNNB7D43COUIRE5295', 'US00130H1059', 'Electricity Utilities', 'US', 'North America', 'equity', 'USD', 2019, 10870000000.0, 10189000000.0, 10102000000.0, 11131000000.0, 33648000000.0, 1029000000.0, 261000000.0),\n",
       " ('Algonquin Power & Utilities Corp.', '549300K5VIUTJXQL7X75', 'US0158577090', 'Electricity Utilities', 'CA', 'North America', 'equity', 'USD', 2019, None, 1624921000.0, None, None, 10911470000.0, 62485000.0, 6500799000.0),\n",
       " ('Alliant Energy', '5493009ML300G373MZ12', 'US0188021085', 'Electricity Utilities', 'US', 'North America', 'equity', 'USD', 2019, 11600000000.0, 3647700000.0, 18503600000.0, 18519900000.0, 16700700000.0, 16300000.0, 6919900000.0),\n",
       " ('Ameren Corp.', 'XRZQ5S7HYJFPHJ78L959', 'US0236081024', 'Electricity Utilities', 'US', 'North America', 'equity', 'USD', 2019, 18378774986.0, 5910000000.0, 27804774986.0, 27820774986.0, 28933000000.0, 16000000.0, 9442000000.0),\n",
       " ('American Electric Power Co., Inc.', '1B4S6S7G0TW5EE83BO58', 'US0255371017', 'Electricity Utilities', 'US', 'North America', 'equity', 'USD', 2019, 43491855142.0, 15561400000.0, 73417055142.0, 73663855142.0, 75892300000.0, 246800000.0, 30172000000.0),\n",
       " ('Avangrid, Inc.', '549300OX0Q38NLSKPB49', 'US05351W1036', 'Electricity Utilities', 'US', 'North America', 'equity', 'USD', 2019, 2836000000.0, 6338000000.0, 10826000000.0, 11004000000.0, 34416000000.0, 178000000.0, 8168000000.0),\n",
       " ('Avista Corp.', 'Q0IK63NITJD6RJ47SW96', 'US05379B1070', 'Electricity Utilities', 'US', 'North America', 'equity', 'USD', 2019, 2948564738.0, 1345622000.0, 4917868738.0, 4927764738.0, 6082456000.0, 9896000.0, 1979200000.0),\n",
       " ('Berkshire Hathaway, Inc.', '5493000C01ZX7D35SD85', 'US0846707026', 'Electricity Utilities', 'US', 'North America', 'equity', 'USD', 2019, 417300000000.0, 254616000000.0, None, 421014902807.7754, 817729000000.0, None, 3714902807.775378),\n",
       " ('Black Hills Corp.', '3MGELCRSTNSAMJ962671', 'US0921131092', 'Electricity Utilities', 'US', 'North America', 'equity', 'USD', 2019, 4727278183.0, 1734900000.0, 7857597183.0, 7867374183.0, 7558457000.0, 9777000.0, 3140096000.0),\n",
       " ('Brookfield Asset Management', 'C6J3FGIWG6MBDGTE8F80', 'CA1125851040', 'Electricity Utilities', 'CA', 'North America', 'equity', 'USD', 2019, None, 67826000000.0, None, None, 323969000000.0, 6778000000.0, None),\n",
       " ('CARPENTER TECHNOLOGY CORP', 'DX6I6ZD3X5WNNCDJKP85', 'US1442851036', 'Steel', 'US', 'North America', 'equity', 'USD', 2019, 1687208892.0, 2380200000.0, 2210808892.0, 2237808892.0, 3187800000.0, 27000000.0, 550600000.0),\n",
       " ('CLEVELAND-CLIFFS INC', '549300TM2WLI2BJMDD86', 'US1858991011', 'Steel', 'US', 'North America', 'equity', 'USD', 2019, 2839987963.0, 1989900000.0, 4601187963.0, 4953787963.0, 3503800000.0, 352600000.0, 2113800000.0),\n",
       " ('CMS Energy Corp.', '549300IA9XFBAGNIBW29', 'US1258961002', 'Electricity Utilities', 'US', 'North America', 'equity', 'USD', 2019, 16352000000.0, 6845000000.0, 28163000000.0, 28303000000.0, 26837000000.0, 140000000.0, 11951000000.0),\n",
       " ('COMMERCIAL METALS CO', '549300OQS2LO07ZJ7N73', 'US2017231034', 'Steel', 'US', 'North America', 'equity', 'USD', 2019, 1900000000.0, 5829002000.0, None, 3154921000.0, 3758771000.0, None, 1254921000.0),\n",
       " ('Consolidated Edison, Inc.', '54930033SBW53OO8T749', 'US2091151041', 'Electricity Utilities', 'US', 'North America', 'equity', 'USD', 2019, 29100000000.0, 12574000000.0, 48092000000.0, 49073000000.0, 58079000000.0, 981000000.0, 19973000000.0),\n",
       " ('DTE Energy', '549300IX8SD6XXD71I78', 'US2333311072', 'Electricity Utilities', 'US', 'North America', 'equity', 'USD', 2019, 23100000000.0, 12669000000.0, 39762000000.0, 39855000000.0, 41882000000.0, 93000000.0, 16755000000.0),\n",
       " ('Dominion Energy', 'ILUL7B6Z54MRYCF6H308', 'US25746U1097', 'Electricity Utilities', 'US', 'North America', 'equity', 'USD', 2019, 62000000000.0, 16572000000.0, 95658000000.0, 95824000000.0, 103823000000.0, 166000000.0, 33824000000.0),\n",
       " ('Duke Energy Corp.', 'I1BZKREC126H0VB1BL91', 'US26441C2044', 'Electricity Utilities', 'US', 'North America', 'equity', 'USD', 2019, 64230558771.0, 25079000000.0, 126981558771.0, 127292558771.0, 158838000000.0, 311000000.0, 63062000000.0),\n",
       " ('Edison International', '549300I7ROF15MAEVP56', 'US2810201077', 'Electricity Utilities', 'US', 'North America', 'equity', 'USD', 2019, 22000000000.0, 12347000000.0, 42069000000.0, 42137000000.0, 64382000000.0, 68000000.0, 20137000000.0),\n",
       " ('Entergy Corp.', '4XM3TW50JULSLG8BNC79', 'US29364G1031', 'Electricity Utilities', 'US', 'North America', 'equity', 'USD', 2019, 20500000000.0, 10878673000.0, 39134228000.0, 39559950000.0, 51723912000.0, 425722000.0, 19059950000.0),\n",
       " ('Evergy, Inc.', '549300PGTHDQY6PSUI61', 'US30034W1062', 'Electricity Utilities', 'US', 'North America', 'equity', 'USD', 2019, 14138041261.0, 5147800000.0, 22861541261.0, 22884741261.0, 25975900000.0, 23200000.0, 8746700000.0),\n",
       " ('Eversource Energy', 'SJ7XXD41SQU3ZNWUJ746', 'US30040W1080', 'Electricity Utilities', 'US', 'North America', 'equity', 'USD', 2019, 24486439602.0, 8526470000.0, 38241835602.0, 38257267602.0, 41123915000.0, 15432000.0, 13770828000.0),\n",
       " ('Exelon Corp.', '3SOUA6IRML7435B56G12', 'US30161N1019', 'Electricity Utilities', 'US', 'North America', 'equity', 'USD', 2019, 46542193363.0, 34438000000.0, 81905193363.0, 82492193363.0, 124977000000.0, 587000000.0, 35950000000.0),\n",
       " ('FirstEnergy Corp.', '549300SVYJS666PQJH88', 'US3379321074', 'Electricity Utilities', 'US', 'North America', 'equity', 'USD', 2019, 22724895037.0, 11035000000.0, 41715895037.0, 42342895037.0, 42301000000.0, 627000000.0, 19618000000.0),\n",
       " ('Fortis, Inc.', '549300MQYQ9Y065XPR71', 'CA3495531079', 'Electricity Utilities', 'CA', 'North America', 'equity', 'USD', 2019, None, 6740419928.207348, None, None, 40984331759.76149, 283952564.4354684, 16500713751.154068),\n",
       " ('GERDAU S.A.', '254900YDV6SEQQPZVG24', 'US3737371050', 'Steel', 'BR', 'Global', 'equity', 'USD', 2019, None, 9277358887.952824, None, None, 12637594776.748106, 618190583.1695217, None),\n",
       " ('Hawaiian Electric Industries, Inc.', 'JJ8FWOCWCV22X7GUPJ23', 'US4198701009', 'Electricity Utilities', 'US', 'North America', 'equity', 'USD', 2019, 4745752027.0, 2874601000.0, 6513304027.0, 6710117027.0, 13745251000.0, 196813000.0, 1964365000.0),\n",
       " ('NUCOR CORP', '549300GGJCRSI2TIEJ46', 'US6703461052', 'Steel', 'US', 'North America', 'equity', 'USD', 2019, 16580000000.0, 22588858000.0, 19336696000.0, 20871301000.0, 18344666000.0, 1534605000.0, 4291301000.0),\n",
       " ('Otter Tail Corp.', '549300HHVBQRQUVKKD91', 'US6896481032', 'Electricity Utilities', 'US', 'North America', 'equity', 'USD', 2019, 2040017347.0, 919503000.0, 2714582347.0, 2735781347.0, 2273595000.0, 21199000.0, 695764000.0),\n",
       " ('PG&E Corp.', '8YQ2GSDWYZXO2EDN3511', 'US69331C1080', 'Electricity Utilities', 'US', 'North America', 'equity', 'USD', 2019, 12130000000.0, 17129000000.0, 32736000000.0, 34306000000.0, 85196000000.0, 1570000000.0, 22176000000.0),\n",
       " ('PNM Resources, Inc.', '5493003JOBJGLZSDDQ28', 'US69349H1077', 'Electricity Utilities', 'US', 'North America', 'equity', 'USD', 2019, 4055165998.0, 1457603000.0, 6568781998.0, 6572614998.0, 7298774000.0, 3833000.0, 2517449000.0),\n",
       " ('POSCO', '988400E5HRVX81AYLM04', 'KR7005490008', 'Steel', 'KR', 'Global', 'equity', 'USD', 2019, None, 55955872344.10088, None, None, 68553124892.03662, 3035819657.972016, None),\n",
       " ('PPL Corp.', '9N3UAJSNOUXFKQLF3V18', 'US69351T1060', 'Electricity Utilities', 'US', 'North America', 'equity', 'USD', 2019, 22384264788.0, 7769000000.0, 43462264788.0, 44277264788.0, 45680000000.0, 815000000.0, 21893000000.0),\n",
       " ('Pinnacle West Capital Corp.', 'TWSEY0NEDUDCKS27AH81', 'US7234841010', 'Electricity Utilities', 'US', 'North America', 'equity', 'USD', 2019, 10536165750.0, 3471209000.0, 16720274750.0, 16730557750.0, 18479247000.0, 10283000.0, 6194392000.0),\n",
       " ('Portland General Electric Co.', 'GJOUP9M7C39GLSK9R870', 'US7365088472', 'Electricity Utilities', 'US', 'North America', 'equity', 'USD', 2019, 4823580272.0, 2123000000.0, 7832580272.0, 7862580272.0, 8394000000.0, 30000000.0, 3039000000.0),\n",
       " ('Public Service Enterprise Group', 'PUSS41EMO3E6XXNV3U28', 'US7445731067', 'Electricity Utilities', 'US', 'North America', 'equity', 'USD', 2019, 29513402185.0, 10076000000.0, 46089402185.0, 46236402185.0, 47730000000.0, 147000000.0, 16723000000.0),\n",
       " ('STEEL DYNAMICS INC', '549300HGGKEL4FYTTQ83', 'US8581191009', 'Steel', 'US', 'North America', 'equity', 'USD', 2019, 5000000000.0, 10464991000.0, 6352884000.0, 7734344000.0, 8275765000.0, 1381460000.0, 2734344000.0),\n",
       " ('Sempra Energy', 'PBBKGKLRK5S5C0Y4T545', 'US8168511090', 'Electricity Utilities', 'US', 'North America', 'equity', 'USD', 2019, 37700000000.0, 10829000000.0, 58377000000.0, 58485000000.0, 65665000000.0, 108000000.0, 20785000000.0),\n",
       " ('Southern Co.', '549300FC3G3YU2FBZD92', 'US8425871071', 'Electricity Utilities', 'US', 'North America', 'equity', 'USD', 2019, 57800000000.0, 21419000000.0, 97623000000.0, 99598000000.0, 118700000000.0, 1975000000.0, 41798000000.0),\n",
       " ('TC Energy Corp.', '549300UGKOFV2IWJJG27', 'CA87807B1076', 'Electricity Utilities', 'CA', 'North America', 'equity', 'USD', 2019, None, 10172408761.059818, None, None, 76190612552.94287, 1030671064.9644164, 200000000.0),\n",
       " ('TENARIS SA', '549300Y7C05BKC4HZB40', 'US88031M1099', 'Steel', 'LU', 'Europe', 'equity', 'USD', 2019, None, 7294055000.0, None, None, 14842991000.0, 1554299000.0, None),\n",
       " ('TERNIUM S.A.', '529900QG4KU23TEI2E46', 'US8808901081', 'Steel', 'LU', 'Europe', 'equity', 'USD', 2019, None, 10192818000.0, None, None, 12935533000.0, 519965000.0, None),\n",
       " ('TIMKENSTEEL CORP', '549300QZTZWHDE9HJL14', 'US8873991033', 'Steel', 'US', 'North America', 'equity', 'USD', 2019, 337525844.0, 1208800000.0, 400425844.0, 427525844.0, 1085200000.0, 27100000.0, 90000000.0),\n",
       " ('UGI Corp.', 'DX6GCWD4Q1JO9CRE5I40', 'US9026811052', 'Electricity Utilities', 'US', 'North America', 'equity', 'USD', 2019, 9601543818.0, 7320400000.0, 14958443818.0, 15405543818.0, 13346600000.0, 447100000.0, 5804000000.0),\n",
       " ('UNITED STATES STEEL CORP', 'JNLUVFYJT1OZSIQ24U47', 'US9129091081', 'Steel', 'US', 'North America', 'equity', 'USD', 2019, 2600000000.0, 12937000000.0, 5630000000.0, 6379000000.0, 11608000000.0, 749000000.0, 3779000000.0),\n",
       " ('Vistra Corp.', '549300KP43CPCUJOOG15', 'US92840M1027', 'Electricity Utilities', 'US', 'North America', 'equity', 'USD', 2019, 8654325784.0, 11809000000.0, 18456325784.0, 18756325784.0, 26616000000.0, 300000000.0, 10102000000.0),\n",
       " ('WEC Energy Group', '549300IGLYTZUK3PVP70', 'US92939U1060', 'Electricity Utilities', 'US', 'North America', 'equity', 'USD', 2019, 26300000000.0, 7523100000.0, 38120800000.0, 38158300000.0, 34951800000.0, 37500000.0, 11858300000.0),\n",
       " ('WORTHINGTON INDUSTRIES INC', '1WRCIANKYOIK6KYE5E82', 'US9818111026', 'Steel', 'US', 'North America', 'equity', 'USD', 2019, 1633376617.0, 3759556000.0, 2294113617.0, 2386476617.0, 2510796000.0, 92363000.0, 753100000.0),\n",
       " ('Xcel Energy, Inc.', 'LGJNMI9GH8XIDG5RCM61', 'US98389B1008', 'Electricity Utilities', 'US', 'North America', 'equity', 'USD', 2019, 30629347167.0, 11529000000.0, 50608347167.0, 50856347167.0, 50448000000.0, 248000000.0, 20227000000.0)]"
      ]
     },
     "execution_count": 22,
     "metadata": {},
     "output_type": "execute_result"
    }
   ],
   "source": [
    "osc._do_sql(f\"select * from {ingest_schema}.{itr_prefix}company_data\", engine_quant, verbose=False)"
   ]
  },
  {
   "cell_type": "code",
   "execution_count": null,
   "id": "96697928-5b47-4e5a-955c-5892f2311535",
   "metadata": {},
   "outputs": [],
   "source": []
  }
 ],
 "metadata": {
  "kernelspec": {
   "display_name": "Python 3 (ipykernel)",
   "language": "python",
   "name": "python3"
  },
  "language_info": {
   "codemirror_mode": {
    "name": "ipython",
    "version": 3
   },
   "file_extension": ".py",
   "mimetype": "text/x-python",
   "name": "python",
   "nbconvert_exporter": "python",
   "pygments_lexer": "ipython3",
   "version": "3.8.8"
  }
 },
 "nbformat": 4,
 "nbformat_minor": 5
}
